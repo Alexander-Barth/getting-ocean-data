{
 "cells": [
  {
   "cell_type": "markdown",
   "metadata": {
    "slideshow": {
     "slide_type": "slide"
    }
   },
   "source": [
    "# Import NetCDF files from CMEMS\n",
    "\n"
   ]
  },
  {
   "cell_type": "markdown",
   "metadata": {
    "slideshow": {
     "slide_type": "slide"
    }
   },
   "source": [
    "Following the steps at the CMEMS web portal provides also a script to download the data.\n",
    "The following command download CMEMS data using the motu-client. The CMEMS portal give a script like the following matching you search criteria:\n",
    "\n",
    "```bash\n",
    "python -m  motu-client --user \"abarth\" --pwd  \"your*password\" --motu http://nrt.cmems-du.eu/motu-web/Motu \\\n",
    "  --service-id MEDSEA_ANALYSIS_FORECAST_PHY_006_013-TDS --product-id sv04-med-ingv-tem-an-fc-d \\\n",
    "  --longitude-min -17.29166603088379 --longitude-max 36.29166793823242 \\\n",
    "  --latitude-min 30.1875 --latitude-max 45.97916793823242 \\\n",
    "  --date-min \"2019-04-24 00:00:00\" --date-max \"2019-04-24 00:00:00\" \\\n",
    "  --depth-min 1.0181 --depth-max 104.94500000000001 \\\n",
    "  --variable thetao --out-dir /tmp --out-name OUTPUT_FILENAME.nc\n",
    "```\n"
   ]
  },
  {
   "cell_type": "markdown",
   "metadata": {
    "slideshow": {
     "slide_type": "slide"
    }
   },
   "source": [
    "Import the necessary modules for linear algebra (the transpose operator), plotting via matplotlib and reading NetCDF Files \n"
   ]
  },
  {
   "cell_type": "code",
   "execution_count": 8,
   "metadata": {},
   "outputs": [],
   "source": [
    "using LinearAlgebra\n",
    "using PyCall\n",
    "using PyCall: PyObject\n",
    "using PyPlot\n",
    "using NCDatasets\n",
    "using Statistics\n",
    "using Dates"
   ]
  },
  {
   "cell_type": "markdown",
   "metadata": {},
   "source": [
    "Some helper functions to make plotting data with missing values easier"
   ]
  },
  {
   "cell_type": "code",
   "execution_count": 9,
   "metadata": {},
   "outputs": [
    {
     "data": {
      "text/plain": [
       "PyObject"
      ]
     },
     "execution_count": 9,
     "metadata": {},
     "output_type": "execute_result"
    }
   ],
   "source": [
    "function PyObject(a::Array{Union{T,Missing},N}) where {T,N}\n",
    "  numpy_ma = pyimport(\"numpy\").ma\n",
    "  pycall(numpy_ma.array, Any, coalesce.(a,zero(T)), mask=ismissing.(a))\n",
    "end\n",
    "\n",
    "PyObject(a::Adjoint{Array}) = PyObject(copy(a))"
   ]
  },
  {
   "cell_type": "markdown",
   "metadata": {
    "slideshow": {
     "slide_type": "slide"
    }
   },
   "source": [
    "# Load model data\n",
    "Name of the downloaded NetCDF file"
   ]
  },
  {
   "cell_type": "code",
   "execution_count": 10,
   "metadata": {},
   "outputs": [
    {
     "data": {
      "text/plain": [
       "\"Data/sv04-med-ingv-tem-an-fc-d_1555334258448.nc\""
      ]
     },
     "execution_count": 10,
     "metadata": {},
     "output_type": "execute_result"
    }
   ],
   "source": [
    "filename = \"Data/sv04-med-ingv-tem-an-fc-d_1555334258448.nc\""
   ]
  },
  {
   "cell_type": "markdown",
   "metadata": {
    "slideshow": {
     "slide_type": "slide"
    }
   },
   "source": [
    "List the metadata of the NetCDF file"
   ]
  },
  {
   "cell_type": "code",
   "execution_count": 11,
   "metadata": {},
   "outputs": [
    {
     "data": {
      "text/plain": [
       "\u001b[31mDataset: Data/sv04-med-ingv-tem-an-fc-d_1555334258448.nc\u001b[39m\n",
       "Group: /\n",
       "\n",
       "\u001b[31mDimensions\u001b[39m\n",
       "   time = 1\n",
       "   depth = 25\n",
       "   lat = 380\n",
       "   lon = 1287\n",
       "\n",
       "\u001b[31mVariables\u001b[39m\n",
       "\u001b[32m  depth\u001b[39m   (25)\n",
       "    Datatype:    Float32\n",
       "    Dimensions:  depth\n",
       "    Attributes:\n",
       "     units                = \u001b[34mm\u001b[39m\n",
       "     nav_model            = \u001b[34mGrid T\u001b[39m\n",
       "     positive             = \u001b[34mdown\u001b[39m\n",
       "     standard_name        = \u001b[34mdepth\u001b[39m\n",
       "     long_name            = \u001b[34mdepth\u001b[39m\n",
       "     axis                 = \u001b[34mZ\u001b[39m\n",
       "     valid_min            = \u001b[34m1.0182366\u001b[39m\n",
       "     valid_max            = \u001b[34m104.94398\u001b[39m\n",
       "     _ChunkSizes          = \u001b[34m141\u001b[39m\n",
       "     _CoordinateAxisType  = \u001b[34mHeight\u001b[39m\n",
       "     _CoordinateZisPositive = \u001b[34mdown\u001b[39m\n",
       "\n",
       "\u001b[32m  thetao\u001b[39m   (1287 × 380 × 25 × 1)\n",
       "    Datatype:    Float32\n",
       "    Dimensions:  lon × lat × depth × time\n",
       "    Attributes:\n",
       "     _FillValue           = \u001b[34m1.0e20\u001b[39m\n",
       "     missing_value        = \u001b[34m1.0e20\u001b[39m\n",
       "     units                = \u001b[34mdegC\u001b[39m\n",
       "     coordinates          = \u001b[34mtime depth lat lon\u001b[39m\n",
       "     standard_name        = \u001b[34msea_water_potential_temperature\u001b[39m\n",
       "     long_name            = \u001b[34mtemperature\u001b[39m\n",
       "     _ChunkSizes          = \u001b[34mInt32[1, 29, 76, 258]\u001b[39m\n",
       "\n",
       "\u001b[32m  lon\u001b[39m   (1287)\n",
       "    Datatype:    Float32\n",
       "    Dimensions:  lon\n",
       "    Attributes:\n",
       "     valid_min            = \u001b[34m-17.291666\u001b[39m\n",
       "     valid_max            = \u001b[34m36.291668\u001b[39m\n",
       "     units                = \u001b[34mdegrees_east\u001b[39m\n",
       "     nav_model            = \u001b[34mGrid T\u001b[39m\n",
       "     standard_name        = \u001b[34mlongitude\u001b[39m\n",
       "     long_name            = \u001b[34mlongitude\u001b[39m\n",
       "     axis                 = \u001b[34mX\u001b[39m\n",
       "     _ChunkSizes          = \u001b[34m1287\u001b[39m\n",
       "     _CoordinateAxisType  = \u001b[34mLon\u001b[39m\n",
       "\n",
       "\u001b[32m  time\u001b[39m   (1)\n",
       "    Datatype:    Float64\n",
       "    Dimensions:  time\n",
       "    Attributes:\n",
       "     units                = \u001b[34mseconds since 1970-01-01 00:00:00\u001b[39m\n",
       "     calendar             = \u001b[34mstandard\u001b[39m\n",
       "     long_name            = \u001b[34mtime\u001b[39m\n",
       "     standard_name        = \u001b[34mtime\u001b[39m\n",
       "     axis                 = \u001b[34mT\u001b[39m\n",
       "     _ChunkSizes          = \u001b[34m1\u001b[39m\n",
       "     _CoordinateAxisType  = \u001b[34mTime\u001b[39m\n",
       "     valid_min            = \u001b[34m1.556064e9\u001b[39m\n",
       "     valid_max            = \u001b[34m1.556064e9\u001b[39m\n",
       "\n",
       "\u001b[32m  lat\u001b[39m   (380)\n",
       "    Datatype:    Float32\n",
       "    Dimensions:  lat\n",
       "    Attributes:\n",
       "     valid_min            = \u001b[34m30.1875\u001b[39m\n",
       "     valid_max            = \u001b[34m45.979168\u001b[39m\n",
       "     units                = \u001b[34mdegrees_north\u001b[39m\n",
       "     nav_model            = \u001b[34mGrid T\u001b[39m\n",
       "     standard_name        = \u001b[34mlatitude\u001b[39m\n",
       "     long_name            = \u001b[34mlatitude\u001b[39m\n",
       "     axis                 = \u001b[34mY\u001b[39m\n",
       "     _ChunkSizes          = \u001b[34m380\u001b[39m\n",
       "     _CoordinateAxisType  = \u001b[34mLat\u001b[39m\n",
       "\n",
       "\u001b[31mGlobal attributes\u001b[39m\n",
       "  bulletin_type        = \u001b[34mforecast\u001b[39m\n",
       "  institution          = \u001b[34mIstituto Nazionale di Geofisica e Vulcanologia - Bologna, Italy\u001b[39m\n",
       "  source               = \u001b[34mMFS EAS3\u001b[39m\n",
       "  contact              = \u001b[34mservicedesk.cmems@mercator-ocean.eu\u001b[39m\n",
       "  references           = \u001b[34mPlease check in CMEMS catalogue the INFO section for product MEDSEA_ANALYSIS_FORECAST_PHY_006_013 - http://marine.copernicus.eu\u001b[39m\n",
       "  comment              = \u001b[34mPlease check in CMEMS catalogue the INFO section for product MEDSEA_ANALYSIS_FORECAST_PHY_006_013 - http://marine.copernicus.eu\u001b[39m\n",
       "  Conventions          = \u001b[34mCF-1.0\u001b[39m\n",
       "  bulletin_date        = \u001b[34m2019-04-14\u001b[39m\n",
       "  FROM_ORIGINAL_FILE__field_type = \u001b[34mdaily_mean_centered_at_time_field\u001b[39m\n",
       "  title                = \u001b[34mPotential Temperature (3D) - Daily Mean \u001b[39m\n",
       "  _CoordSysBuilder     = \u001b[34mucar.nc2.dataset.conv.CF1Convention\u001b[39m\n",
       "  history              = \u001b[34mData extracted from dataset http://localhost:8080/thredds/dodsC/sv04-med-ingv-tem-an-fc-d\u001b[39m\n"
      ]
     },
     "execution_count": 11,
     "metadata": {},
     "output_type": "execute_result"
    }
   ],
   "source": [
    "ds = Dataset(filename)"
   ]
  },
  {
   "cell_type": "markdown",
   "metadata": {
    "slideshow": {
     "slide_type": "slide"
    }
   },
   "source": [
    "The time instance in the NetCDF file"
   ]
  },
  {
   "cell_type": "code",
   "execution_count": 12,
   "metadata": {},
   "outputs": [
    {
     "data": {
      "text/plain": [
       "1-element Array{Union{Missing, DateTime},1}:\n",
       " 2019-04-24T00:00:00"
      ]
     },
     "execution_count": 12,
     "metadata": {},
     "output_type": "execute_result"
    }
   ],
   "source": [
    "ds[\"time\"][:]"
   ]
  },
  {
   "cell_type": "markdown",
   "metadata": {},
   "source": [
    "The depth (in m) for the first level:"
   ]
  },
  {
   "cell_type": "code",
   "execution_count": 13,
   "metadata": {},
   "outputs": [
    {
     "data": {
      "text/plain": [
       "1.0182366f0"
      ]
     },
     "execution_count": 13,
     "metadata": {},
     "output_type": "execute_result"
    }
   ],
   "source": [
    "ds[\"depth\"][1]"
   ]
  },
  {
   "cell_type": "markdown",
   "metadata": {
    "slideshow": {
     "slide_type": "slide"
    }
   },
   "source": [
    "Load the first layer and the first time instance:"
   ]
  },
  {
   "cell_type": "code",
   "execution_count": 14,
   "metadata": {},
   "outputs": [],
   "source": [
    "SST = ds[\"thetao\"][:,:,1,1];"
   ]
  },
  {
   "cell_type": "code",
   "execution_count": 15,
   "metadata": {},
   "outputs": [
    {
     "data": {
      "image/png": "[encoded data removed]",
      "text/plain": [
       "Figure(PyObject <Figure size 640x480 with 2 Axes>)"
      ]
     },
     "metadata": {},
     "output_type": "display_data"
    }
   ],
   "source": [
    "pcolor(SST', cmap=\"jet\"); colorbar(orientation=\"horizontal\");"
   ]
  },
  {
   "cell_type": "markdown",
   "metadata": {
    "slideshow": {
     "slide_type": "slide"
    }
   },
   "source": [
    "A nicer plot with longitude and latitude as axes and the correct aspect ratio:"
   ]
  },
  {
   "cell_type": "code",
   "execution_count": 16,
   "metadata": {},
   "outputs": [
    {
     "data": {
      "image/png": "[encoded data removed]",
      "text/plain": [
       "Figure(PyObject <Figure size 640x480 with 2 Axes>)"
      ]
     },
     "metadata": {},
     "output_type": "display_data"
    }
   ],
   "source": [
    "lon = ds[\"lon\"][:];\n",
    "lat = ds[\"lat\"][:];\n",
    "pcolor(lon,lat,SST', cmap=\"jet\"); colorbar(orientation=\"horizontal\");\n",
    "gca().set_aspect(1/cos(pi*mean(lat) / 180))"
   ]
  },
  {
   "cell_type": "markdown",
   "metadata": {
    "slideshow": {
     "slide_type": "slide"
    }
   },
   "source": [
    "List a depth levels in the NetCDF file"
   ]
  },
  {
   "cell_type": "code",
   "execution_count": 10,
   "metadata": {},
   "outputs": [
    {
     "data": {
      "text/plain": [
       "25-element Array{Union{Missing, Float32},1}:\n",
       "   1.0182366f0\n",
       "   3.1657474f0\n",
       "   5.4649634f0\n",
       "   7.9203773f0\n",
       "  10.536604f0 \n",
       "  13.318384f0 \n",
       "  16.270586f0 \n",
       "  19.39821f0  \n",
       "  22.706392f0 \n",
       "  26.2004f0   \n",
       "  29.885643f0 \n",
       "  33.767673f0 \n",
       "  37.852192f0 \n",
       "  42.14504f0  \n",
       "  46.65221f0  \n",
       "  51.37986f0  \n",
       "  56.334286f0 \n",
       "  61.521957f0 \n",
       "  66.94949f0  \n",
       "  72.62369f0  \n",
       "  78.5515f0   \n",
       "  84.74004f0  \n",
       "  91.19663f0  \n",
       "  97.92873f0  \n",
       " 104.94398f0  "
      ]
     },
     "execution_count": 10,
     "metadata": {},
     "output_type": "execute_result"
    }
   ],
   "source": [
    "depth = ds[\"depth\"][:]"
   ]
  },
  {
   "cell_type": "markdown",
   "metadata": {
    "slideshow": {
     "slide_type": "slide"
    }
   },
   "source": [
    "Plot a vertical section at a constant latitude:"
   ]
  },
  {
   "cell_type": "code",
   "execution_count": 11,
   "metadata": {},
   "outputs": [
    {
     "data": {
      "text/plain": [
       "38.479168f0"
      ]
     },
     "execution_count": 11,
     "metadata": {},
     "output_type": "execute_result"
    }
   ],
   "source": [
    "j = 200;\n",
    "T = ds[\"thetao\"][:,j,:,1];\n",
    "lat[j]"
   ]
  },
  {
   "cell_type": "code",
   "execution_count": 20,
   "metadata": {},
   "outputs": [
    {
     "data": {
      "image/png": "[encoded data removed]",
      "text/plain": [
       "Figure(PyObject <Figure size 640x480 with 2 Axes>)"
      ]
     },
     "metadata": {},
     "output_type": "display_data"
    }
   ],
   "source": [
    "pcolor(lon,-depth,T'; cmap=\"jet\"); colorbar(orientation=\"horizontal\");"
   ]
  },
  {
   "cell_type": "markdown",
   "metadata": {
    "slideshow": {
     "slide_type": "slide"
    }
   },
   "source": [
    "# In situ observations\n",
    "\n",
    "The module PhysOcean can be installed with\n",
    "```julia\n",
    "using Pkg\n",
    "Pkg.add(\"PhysOcean\")\n",
    "```"
   ]
  },
  {
   "cell_type": "code",
   "execution_count": 13,
   "metadata": {},
   "outputs": [],
   "source": [
    "using PhysOcean"
   ]
  },
  {
   "cell_type": "code",
   "execution_count": 14,
   "metadata": {},
   "outputs": [],
   "source": [
    "# username = \"Joe\"\n",
    "# password = \"p*ssw0rd\"\n",
    "\n",
    "username, password = split(read(expanduser(\"~/.cmems-credentials\"),String),\":\", limit = 2);"
   ]
  },
  {
   "cell_type": "markdown",
   "metadata": {
    "slideshow": {
     "slide_type": "slide"
    }
   },
   "source": [
    "Download temperature data within the specificed time range for any location"
   ]
  },
  {
   "cell_type": "code",
   "execution_count": null,
   "metadata": {
    "slideshow": {
     "slide_type": "-"
    }
   },
   "outputs": [
    {
     "name": "stdout",
     "output_type": "stream",
     "text": [
      "Downloading \u001b[32mftp://my.cmems-du.eu/Core/INSITU_NWS_TS_REP_OBSERVATIONS_013_043/index_history.txt\u001b[39m\n"
     ]
    },
    {
     "name": "stderr",
     "output_type": "stream",
     "text": [
      "  % Total    % Received % Xferd  Average Speed   Time    Time     Time  Current\n",
      "                                 Dload  Upload   Total   Spent    Left  Speed\n",
      "100 1926k  100 1926k    0     0   247k      0  0:00:07  0:00:07 --:--:--  347k\n"
     ]
    },
    {
     "name": "stdout",
     "output_type": "stream",
     "text": [
      "Downloading \u001b[32mftp://my.cmems-du.eu/Core/INSITU_NWS_TS_REP_OBSERVATIONS_013_043/history/drifter/GL_TS_DB_1300529.nc\u001b[39m\n"
     ]
    },
    {
     "name": "stderr",
     "output_type": "stream",
     "text": [
      "  % Total    % Received % Xferd  Average Speed   Time    Time     Time  Current\n",
      "                                 Dload  Upload   Total   Spent    Left  Speed\n",
      "100 3297k  100 3297k    0     0   272k      0  0:00:12  0:00:12 --:--:--  347k\n"
     ]
    },
    {
     "name": "stdout",
     "output_type": "stream",
     "text": [
      "Downloading \u001b[32mftp://my.cmems-du.eu/Core/INSITU_NWS_TS_REP_OBSERVATIONS_013_043/history/drifter/GL_TS_DB_2500622.nc\u001b[39m\n"
     ]
    },
    {
     "name": "stderr",
     "output_type": "stream",
     "text": [
      "  % Total    % Received % Xferd  Average Speed   Time    Time     Time  Current\n",
      "                                 Dload  Upload   Total   Spent    Left  Speed\n",
      "100 2171k  100 2171k    0     0   252k      0  0:00:08  0:00:08 --:--:--  347k\n"
     ]
    },
    {
     "name": "stdout",
     "output_type": "stream",
     "text": [
      "Downloading \u001b[32mftp://my.cmems-du.eu/Core/INSITU_NWS_TS_REP_OBSERVATIONS_013_043/history/drifter/GL_TS_DB_2601561.nc\u001b[39m\n"
     ]
    },
    {
     "name": "stderr",
     "output_type": "stream",
     "text": [
      "  % Total    % Received % Xferd  Average Speed   Time    Time     Time  Current\n",
      "                                 Dload  Upload   Total   Spent    Left  Speed\n",
      "100 1321k  100 1321k    0     0   213k      0  0:00:06  0:00:06 --:--:--  308k\n"
     ]
    },
    {
     "name": "stdout",
     "output_type": "stream",
     "text": [
      "Downloading \u001b[32mftp://my.cmems-du.eu/Core/INSITU_NWS_TS_REP_OBSERVATIONS_013_043/history/drifter/GL_TS_DB_4100668.nc\u001b[39m\n"
     ]
    },
    {
     "name": "stderr",
     "output_type": "stream",
     "text": [
      "  % Total    % Received % Xferd  Average Speed   Time    Time     Time  Current\n",
      "                                 Dload  Upload   Total   Spent    Left  Speed\n",
      "100  691k  100  691k    0     0   168k      0  0:00:04  0:00:04 --:--:--  168k\n"
     ]
    },
    {
     "name": "stdout",
     "output_type": "stream",
     "text": [
      "Downloading \u001b[32mftp://my.cmems-du.eu/Core/INSITU_NWS_TS_REP_OBSERVATIONS_013_043/history/drifter/GL_TS_DB_4400510.nc\u001b[39m\n"
     ]
    },
    {
     "name": "stderr",
     "output_type": "stream",
     "text": [
      "  % Total    % Received % Xferd  Average Speed   Time    Time     Time  Current\n",
      "                                 Dload  Upload   Total   Spent    Left  Speed\n",
      "100 2626k  100 2626k    0     0   270k      0  0:00:09  0:00:09 --:--:--  346k\n"
     ]
    },
    {
     "name": "stdout",
     "output_type": "stream",
     "text": [
      "Downloading \u001b[32mftp://my.cmems-du.eu/Core/INSITU_NWS_TS_REP_OBSERVATIONS_013_043/history/drifter/GL_TS_DB_4400513.nc\u001b[39m\n"
     ]
    },
    {
     "name": "stderr",
     "output_type": "stream",
     "text": [
      "  % Total    % Received % Xferd  Average Speed   Time    Time     Time  Current\n",
      "                                 Dload  Upload   Total   Spent    Left  Speed\n",
      "100 2408k  100 2408k    0     0   266k      0  0:00:09  0:00:09 --:--:--  344k\n"
     ]
    },
    {
     "name": "stdout",
     "output_type": "stream",
     "text": [
      "Downloading \u001b[32mftp://my.cmems-du.eu/Core/INSITU_NWS_TS_REP_OBSERVATIONS_013_043/history/drifter/GL_TS_DB_4400765.nc\u001b[39m\n"
     ]
    },
    {
     "name": "stderr",
     "output_type": "stream",
     "text": [
      "  % Total    % Received % Xferd  Average Speed   Time    Time     Time  Current\n",
      "                                 Dload  Upload   Total   Spent    Left  Speed\n",
      " 82 1664k   82 1373k    0     0   214k      0  0:00:07  0:00:06  0:00:01  278k"
     ]
    },
    {
     "name": "stdout",
     "output_type": "stream",
     "text": [
      "Downloading \u001b[32mftp://my.cmems-du.eu/Core/INSITU_NWS_TS_REP_OBSERVATIONS_013_043/history/drifter/GL_TS_DB_4400886.nc\u001b[39m\n"
     ]
    },
    {
     "name": "stderr",
     "output_type": "stream",
     "text": [
      "100 1664k  100 1664k    0     0   227k      0  0:00:07  0:00:07 --:--:--  334k\n",
      "  % Total    % Received % Xferd  Average Speed   Time    Time     Time  Current\n",
      "                                 Dload  Upload   Total   Spent    Left  Speed\n",
      "100  989k  100  989k    0     0   190k      0  0:00:05  0:00:05 --:--:--  261k\n"
     ]
    },
    {
     "name": "stdout",
     "output_type": "stream",
     "text": [
      "Downloading \u001b[32mftp://my.cmems-du.eu/Core/INSITU_NWS_TS_REP_OBSERVATIONS_013_043/history/drifter/GL_TS_DB_4400899.nc\u001b[39m\n"
     ]
    },
    {
     "name": "stderr",
     "output_type": "stream",
     "text": [
      "  % Total    % Received % Xferd  Average Speed   Time    Time     Time  Current\n",
      "                                 Dload  Upload   Total   Spent    Left  Speed\n",
      "100 1205k  100 1205k    0     0   209k      0  0:00:05  0:00:05 --:--:--  299k\n"
     ]
    },
    {
     "name": "stdout",
     "output_type": "stream",
     "text": [
      "Downloading \u001b[32mftp://my.cmems-du.eu/Core/INSITU_NWS_TS_REP_OBSERVATIONS_013_043/history/drifter/GL_TS_DB_4401501.nc\u001b[39m\n"
     ]
    },
    {
     "name": "stderr",
     "output_type": "stream",
     "text": [
      "  % Total    % Received % Xferd  Average Speed   Time    Time     Time  Current\n",
      "                                 Dload  Upload   Total   Spent    Left  Speed\n",
      "100 1484k  100 1484k    0     0   230k      0  0:00:06  0:00:06 --:--:--  322k\n"
     ]
    },
    {
     "name": "stdout",
     "output_type": "stream",
     "text": [
      "Downloading \u001b[32mftp://my.cmems-du.eu/Core/INSITU_NWS_TS_REP_OBSERVATIONS_013_043/history/drifter/GL_TS_DB_4401536.nc\u001b[39m\n"
     ]
    },
    {
     "name": "stderr",
     "output_type": "stream",
     "text": [
      "  % Total    % Received % Xferd  Average Speed   Time    Time     Time  Current\n",
      "                                 Dload  Upload   Total   Spent    Left  Speed\n",
      "100 1648k  100 1648k    0     0   234k      0  0:00:07  0:00:07 --:--:--  335k\n"
     ]
    },
    {
     "name": "stdout",
     "output_type": "stream",
     "text": [
      "Downloading \u001b[32mftp://my.cmems-du.eu/Core/INSITU_NWS_TS_REP_OBSERVATIONS_013_043/history/drifter/GL_TS_DB_4401548.nc\u001b[39m\n"
     ]
    },
    {
     "name": "stderr",
     "output_type": "stream",
     "text": [
      "  % Total    % Received % Xferd  Average Speed   Time    Time     Time  Current\n",
      "                                 Dload  Upload   Total   Spent    Left  Speed\n",
      "100  762k  100  762k    0     0   173k      0  0:00:04  0:00:04 --:--:--  178k\n"
     ]
    },
    {
     "name": "stdout",
     "output_type": "stream",
     "text": [
      "Downloading \u001b[32mftp://my.cmems-du.eu/Core/INSITU_NWS_TS_REP_OBSERVATIONS_013_043/history/drifter/GL_TS_DB_4401550.nc\u001b[39m\n"
     ]
    },
    {
     "name": "stderr",
     "output_type": "stream",
     "text": [
      "  % Total    % Received % Xferd  Average Speed   Time    Time     Time  Current\n",
      "                                 Dload  Upload   Total   Spent    Left  Speed\n",
      "100 1611k  100 1611k    0     0   237k      0  0:00:06  0:00:06 --:--:--  347k\n"
     ]
    },
    {
     "name": "stdout",
     "output_type": "stream",
     "text": [
      "Downloading \u001b[32mftp://my.cmems-du.eu/Core/INSITU_NWS_TS_REP_OBSERVATIONS_013_043/history/drifter/GL_TS_DB_4401553.nc\u001b[39m\n"
     ]
    },
    {
     "name": "stderr",
     "output_type": "stream",
     "text": [
      "  % Total    % Received % Xferd  Average Speed   Time    Time     Time  Current\n",
      "                                 Dload  Upload   Total   Spent    Left  Speed\n",
      "100 1839k  100 1839k    0     0   244k      0  0:00:07  0:00:07 --:--:--  347k\n"
     ]
    },
    {
     "name": "stdout",
     "output_type": "stream",
     "text": [
      "Downloading \u001b[32mftp://my.cmems-du.eu/Core/INSITU_NWS_TS_REP_OBSERVATIONS_013_043/history/drifter/GL_TS_DB_4401554.nc\u001b[39m\n"
     ]
    },
    {
     "name": "stderr",
     "output_type": "stream",
     "text": [
      "  % Total    % Received % Xferd  Average Speed   Time    Time     Time  Current\n",
      "                                 Dload  Upload   Total   Spent    Left  Speed\n",
      "100 1830k  100 1830k    0     0   247k      0  0:00:07  0:00:07 --:--:--  347k\n"
     ]
    },
    {
     "name": "stdout",
     "output_type": "stream",
     "text": [
      "Downloading \u001b[32mftp://my.cmems-du.eu/Core/INSITU_NWS_TS_REP_OBSERVATIONS_013_043/history/drifter/GL_TS_DB_4401555.nc\u001b[39m\n"
     ]
    },
    {
     "name": "stderr",
     "output_type": "stream",
     "text": [
      "  % Total    % Received % Xferd  Average Speed   Time    Time     Time  Current\n",
      "                                 Dload  Upload   Total   Spent    Left  Speed\n",
      "100 1770k  100 1770k    0     0   244k      0  0:00:07  0:00:07 --:--:--  348k\n"
     ]
    },
    {
     "name": "stdout",
     "output_type": "stream",
     "text": [
      "Downloading \u001b[32mftp://my.cmems-du.eu/Core/INSITU_NWS_TS_REP_OBSERVATIONS_013_043/history/drifter/GL_TS_DB_4401558.nc\u001b[39m\n"
     ]
    },
    {
     "name": "stderr",
     "output_type": "stream",
     "text": [
      "  % Total    % Received % Xferd  Average Speed   Time    Time     Time  Current\n",
      "                                 Dload  Upload   Total   Spent    Left  Speed\n",
      "100 1223k  100 1223k    0     0   213k      0  0:00:05  0:00:05 --:--:--  276k\n"
     ]
    },
    {
     "name": "stdout",
     "output_type": "stream",
     "text": [
      "Downloading \u001b[32mftp://my.cmems-du.eu/Core/INSITU_NWS_TS_REP_OBSERVATIONS_013_043/history/drifter/GL_TS_DB_4401559.nc\u001b[39m\n"
     ]
    },
    {
     "name": "stderr",
     "output_type": "stream",
     "text": [
      "  % Total    % Received % Xferd  Average Speed   Time    Time     Time  Current\n",
      "                                 Dload  Upload   Total   Spent    Left  Speed\n",
      "100 1207k  100 1207k    0     0   213k      0  0:00:05  0:00:05 --:--:--  291k\n"
     ]
    },
    {
     "name": "stdout",
     "output_type": "stream",
     "text": [
      "Downloading \u001b[32mftp://my.cmems-du.eu/Core/INSITU_NWS_TS_REP_OBSERVATIONS_013_043/history/drifter/GL_TS_DB_4401565.nc\u001b[39m\n"
     ]
    },
    {
     "name": "stderr",
     "output_type": "stream",
     "text": [
      "  % Total    % Received % Xferd  Average Speed   Time    Time     Time  Current\n",
      "                                 Dload  Upload   Total   Spent    Left  Speed\n",
      "100  987k  100  987k    0     0   197k      0  0:00:04  0:00:04 --:--:--  265k\n"
     ]
    },
    {
     "name": "stdout",
     "output_type": "stream",
     "text": [
      "Downloading \u001b[32mftp://my.cmems-du.eu/Core/INSITU_NWS_TS_REP_OBSERVATIONS_013_043/history/drifter/GL_TS_DB_4401566.nc\u001b[39m\n"
     ]
    },
    {
     "name": "stderr",
     "output_type": "stream",
     "text": [
      "  % Total    % Received % Xferd  Average Speed   Time    Time     Time  Current\n",
      "                                 Dload  Upload   Total   Spent    Left  Speed\n",
      "100  985k  100  985k    0     0   192k      0  0:00:05  0:00:05 --:--:--  259k\n"
     ]
    },
    {
     "name": "stdout",
     "output_type": "stream",
     "text": [
      "Downloading \u001b[32mftp://my.cmems-du.eu/Core/INSITU_NWS_TS_REP_OBSERVATIONS_013_043/history/drifter/GL_TS_DB_4401601.nc\u001b[39m\n"
     ]
    },
    {
     "name": "stderr",
     "output_type": "stream",
     "text": [
      "  % Total    % Received % Xferd  Average Speed   Time    Time     Time  Current\n",
      "                                 Dload  Upload   Total   Spent    Left  Speed\n",
      "100 2249k  100 2249k    0     0   259k      0  0:00:08  0:00:08 --:--:--  347k\n"
     ]
    },
    {
     "name": "stdout",
     "output_type": "stream",
     "text": [
      "Downloading \u001b[32mftp://my.cmems-du.eu/Core/INSITU_NWS_TS_REP_OBSERVATIONS_013_043/history/drifter/GL_TS_DB_4401603.nc\u001b[39m\n"
     ]
    },
    {
     "name": "stderr",
     "output_type": "stream",
     "text": [
      "  % Total    % Received % Xferd  Average Speed   Time    Time     Time  Current\n",
      "                                 Dload  Upload   Total   Spent    Left  Speed\n",
      "100 1595k  100 1595k    0     0   228k      0  0:00:06  0:00:06 --:--:--  346k\n"
     ]
    },
    {
     "name": "stdout",
     "output_type": "stream",
     "text": [
      "Downloading \u001b[32mftp://my.cmems-du.eu/Core/INSITU_NWS_TS_REP_OBSERVATIONS_013_043/history/drifter/GL_TS_DB_4401605.nc\u001b[39m\n"
     ]
    },
    {
     "name": "stderr",
     "output_type": "stream",
     "text": [
      "  % Total    % Received % Xferd  Average Speed   Time    Time     Time  Current\n",
      "                                 Dload  Upload   Total   Spent    Left  Speed\n",
      "100 2266k  100 2266k    0     0   258k      0  0:00:08  0:00:08 --:--:--  347k\n"
     ]
    },
    {
     "name": "stdout",
     "output_type": "stream",
     "text": [
      "Downloading \u001b[32mftp://my.cmems-du.eu/Core/INSITU_NWS_TS_REP_OBSERVATIONS_013_043/history/drifter/GL_TS_DB_4401606.nc\u001b[39m\n"
     ]
    },
    {
     "name": "stderr",
     "output_type": "stream",
     "text": [
      "  % Total    % Received % Xferd  Average Speed   Time    Time     Time  Current\n",
      "                                 Dload  Upload   Total   Spent    Left  Speed\n",
      "100 1030k  100 1030k    0     0   196k      0  0:00:05  0:00:05 --:--:--  263k\n"
     ]
    },
    {
     "name": "stdout",
     "output_type": "stream",
     "text": [
      "Downloading \u001b[32mftp://my.cmems-du.eu/Core/INSITU_NWS_TS_REP_OBSERVATIONS_013_043/history/drifter/GL_TS_DB_4401607.nc\u001b[39m\n"
     ]
    },
    {
     "name": "stderr",
     "output_type": "stream",
     "text": [
      "  % Total    % Received % Xferd  Average Speed   Time    Time     Time  Current\n",
      "                                 Dload  Upload   Total   Spent    Left  Speed\n",
      "100 1233k  100 1233k    0     0   214k      0  0:00:05  0:00:05 --:--:--  275k\n"
     ]
    },
    {
     "name": "stdout",
     "output_type": "stream",
     "text": [
      "Downloading \u001b[32mftp://my.cmems-du.eu/Core/INSITU_NWS_TS_REP_OBSERVATIONS_013_043/history/drifter/GL_TS_DB_4401608.nc\u001b[39m\n"
     ]
    },
    {
     "name": "stderr",
     "output_type": "stream",
     "text": [
      "  % Total    % Received % Xferd  Average Speed   Time    Time     Time  Current\n",
      "                                 Dload  Upload   Total   Spent    Left  Speed\n",
      "100  977k  100  977k    0     0   180k      0  0:00:05  0:00:05 --:--:--  243k\n"
     ]
    },
    {
     "name": "stdout",
     "output_type": "stream",
     "text": [
      "Downloading \u001b[32mftp://my.cmems-du.eu/Core/INSITU_NWS_TS_REP_OBSERVATIONS_013_043/history/drifter/GL_TS_DB_4401613.nc\u001b[39m\n"
     ]
    },
    {
     "name": "stderr",
     "output_type": "stream",
     "text": [
      "  % Total    % Received % Xferd  Average Speed   Time    Time     Time  Current\n",
      "                                 Dload  Upload   Total   Spent    Left  Speed\n",
      "100 1878k  100 1878k    0     0   239k      0  0:00:07  0:00:07 --:--:--  347k\n"
     ]
    },
    {
     "name": "stdout",
     "output_type": "stream",
     "text": [
      "Downloading \u001b[32mftp://my.cmems-du.eu/Core/INSITU_NWS_TS_REP_OBSERVATIONS_013_043/history/drifter/GL_TS_DB_4401619.nc\u001b[39m\n"
     ]
    },
    {
     "name": "stderr",
     "output_type": "stream",
     "text": [
      "  % Total    % Received % Xferd  Average Speed   Time    Time     Time  Current\n",
      "                                 Dload  Upload   Total   Spent    Left  Speed\n",
      "100 2045k  100 2045k    0     0   250k      0  0:00:08  0:00:08 --:--:--  347k\n"
     ]
    },
    {
     "name": "stdout",
     "output_type": "stream",
     "text": [
      "Downloading \u001b[32mftp://my.cmems-du.eu/Core/INSITU_NWS_TS_REP_OBSERVATIONS_013_043/history/drifter/GL_TS_DB_4401627.nc\u001b[39m\n"
     ]
    },
    {
     "name": "stderr",
     "output_type": "stream",
     "text": [
      "  % Total    % Received % Xferd  Average Speed   Time    Time     Time  Current\n",
      "                                 Dload  Upload   Total   Spent    Left  Speed\n",
      " 96 1252k   96 1202k    0     0   215k      0  0:00:05  0:00:05 --:--:--  276k"
     ]
    },
    {
     "name": "stdout",
     "output_type": "stream",
     "text": [
      "Downloading \u001b[32mftp://my.cmems-du.eu/Core/INSITU_NWS_TS_REP_OBSERVATIONS_013_043/history/drifter/GL_TS_DB_4401628.nc\u001b[39m\n"
     ]
    },
    {
     "name": "stderr",
     "output_type": "stream",
     "text": [
      "100 1252k  100 1252k    0     0   218k      0  0:00:05  0:00:05 --:--:--  307k\n",
      "  % Total    % Received % Xferd  Average Speed   Time    Time     Time  Current\n",
      "                                 Dload  Upload   Total   Spent    Left  Speed\n",
      "100 1345k  100 1345k    0     0   221k      0  0:00:06  0:00:06 --:--:--  315k\n"
     ]
    },
    {
     "name": "stdout",
     "output_type": "stream",
     "text": [
      "Downloading \u001b[32mftp://my.cmems-du.eu/Core/INSITU_NWS_TS_REP_OBSERVATIONS_013_043/history/drifter/GL_TS_DB_4401631.nc\u001b[39m\n"
     ]
    },
    {
     "name": "stderr",
     "output_type": "stream",
     "text": [
      "  % Total    % Received % Xferd  Average Speed   Time    Time     Time  Current\n",
      "                                 Dload  Upload   Total   Spent    Left  Speed\n",
      "100 1032k  100 1032k    0     0   201k      0  0:00:05  0:00:05 --:--:--  266k\n"
     ]
    },
    {
     "name": "stdout",
     "output_type": "stream",
     "text": [
      "Downloading \u001b[32mftp://my.cmems-du.eu/Core/INSITU_NWS_TS_REP_OBSERVATIONS_013_043/history/drifter/GL_TS_DB_4401633.nc\u001b[39m\n"
     ]
    },
    {
     "name": "stderr",
     "output_type": "stream",
     "text": [
      "  % Total    % Received % Xferd  Average Speed   Time    Time     Time  Current\n",
      "                                 Dload  Upload   Total   Spent    Left  Speed\n",
      " 95 1891k   95 1805k    0     0   244k      0  0:00:07  0:00:07 --:--:--  348k"
     ]
    },
    {
     "name": "stdout",
     "output_type": "stream",
     "text": [
      "Downloading \u001b[32mftp://my.cmems-du.eu/Core/INSITU_NWS_TS_REP_OBSERVATIONS_013_043/history/drifter/GL_TS_DB_4401636.nc\u001b[39m\n"
     ]
    },
    {
     "name": "stderr",
     "output_type": "stream",
     "text": [
      "100 1891k  100 1891k    0     0   248k      0  0:00:07  0:00:07 --:--:--  347k\n",
      "  % Total    % Received % Xferd  Average Speed   Time    Time     Time  Current\n",
      "                                 Dload  Upload   Total   Spent    Left  Speed\n",
      "100 1183k  100 1183k    0     0   211k      0  0:00:05  0:00:05 --:--:--  276k\n"
     ]
    },
    {
     "name": "stdout",
     "output_type": "stream",
     "text": [
      "Downloading \u001b[32mftp://my.cmems-du.eu/Core/INSITU_NWS_TS_REP_OBSERVATIONS_013_043/history/drifter/GL_TS_DB_4401752.nc\u001b[39m\n"
     ]
    },
    {
     "name": "stderr",
     "output_type": "stream",
     "text": [
      "  % Total    % Received % Xferd  Average Speed   Time    Time     Time  Current\n",
      "                                 Dload  Upload   Total   Spent    Left  Speed\n",
      "100  292k  100  292k    0     0    98k      0  0:00:02  0:00:02 --:--:--   98k\n"
     ]
    },
    {
     "name": "stdout",
     "output_type": "stream",
     "text": [
      "Downloading \u001b[32mftp://my.cmems-du.eu/Core/INSITU_NWS_TS_REP_OBSERVATIONS_013_043/history/drifter/GL_TS_DB_4401754.nc\u001b[39m\n"
     ]
    },
    {
     "name": "stderr",
     "output_type": "stream",
     "text": [
      "  % Total    % Received % Xferd  Average Speed   Time    Time     Time  Current\n",
      "                                 Dload  Upload   Total   Spent    Left  Speed\n",
      "100  657k  100  657k    0     0   163k      0  0:00:04  0:00:04 --:--:--  163k\n"
     ]
    },
    {
     "name": "stdout",
     "output_type": "stream",
     "text": [
      "Downloading \u001b[32mftp://my.cmems-du.eu/Core/INSITU_NWS_TS_REP_OBSERVATIONS_013_043/history/drifter/GL_TS_DB_4401755.nc\u001b[39m\n"
     ]
    },
    {
     "name": "stderr",
     "output_type": "stream",
     "text": [
      "  % Total    % Received % Xferd  Average Speed   Time    Time     Time  Current\n",
      "                                 Dload  Upload   Total   Spent    Left  Speed\n",
      "100  708k  100  708k    0     0   164k      0  0:00:04  0:00:04 --:--:--  164k\n"
     ]
    },
    {
     "name": "stdout",
     "output_type": "stream",
     "text": [
      "Downloading \u001b[32mftp://my.cmems-du.eu/Core/INSITU_NWS_TS_REP_OBSERVATIONS_013_043/history/drifter/GL_TS_DB_4401756.nc\u001b[39m\n"
     ]
    },
    {
     "name": "stderr",
     "output_type": "stream",
     "text": [
      "  % Total    % Received % Xferd  Average Speed   Time    Time     Time  Current\n",
      "                                 Dload  Upload   Total   Spent    Left  Speed\n",
      "100 1281k  100 1281k    0     0   219k      0  0:00:05  0:00:05 --:--:--  290k\n"
     ]
    },
    {
     "name": "stdout",
     "output_type": "stream",
     "text": [
      "Downloading \u001b[32mftp://my.cmems-du.eu/Core/INSITU_NWS_TS_REP_OBSERVATIONS_013_043/history/drifter/GL_TS_DB_4401757.nc\u001b[39m\n"
     ]
    },
    {
     "name": "stderr",
     "output_type": "stream",
     "text": [
      "  % Total    % Received % Xferd  Average Speed   Time    Time     Time  Current\n",
      "                                 Dload  Upload   Total   Spent    Left  Speed\n",
      "100  952k  100  952k    0     0   189k      0  0:00:05  0:00:05 --:--:--  254k\n"
     ]
    },
    {
     "name": "stdout",
     "output_type": "stream",
     "text": [
      "Downloading \u001b[32mftp://my.cmems-du.eu/Core/INSITU_NWS_TS_REP_OBSERVATIONS_013_043/history/drifter/GL_TS_DB_4401761.nc\u001b[39m\n"
     ]
    },
    {
     "name": "stderr",
     "output_type": "stream",
     "text": [
      "  % Total    % Received % Xferd  Average Speed   Time    Time     Time  Current\n",
      "                                 Dload  Upload   Total   Spent    Left  Speed\n",
      "100  654k  100  654k    0     0   163k      0  0:00:04  0:00:04 --:--:--  163k\n"
     ]
    },
    {
     "name": "stdout",
     "output_type": "stream",
     "text": [
      "Downloading \u001b[32mftp://my.cmems-du.eu/Core/INSITU_NWS_TS_REP_OBSERVATIONS_013_043/history/drifter/GL_TS_DB_4401762.nc\u001b[39m\n"
     ]
    },
    {
     "name": "stderr",
     "output_type": "stream",
     "text": [
      "  % Total    % Received % Xferd  Average Speed   Time    Time     Time  Current\n",
      "                                 Dload  Upload   Total   Spent    Left  Speed\n",
      " 77  813k   77  634k    0     0   151k      0  0:00:05  0:00:04  0:00:01  151k"
     ]
    },
    {
     "name": "stdout",
     "output_type": "stream",
     "text": [
      "Downloading \u001b[32mftp://my.cmems-du.eu/Core/INSITU_NWS_TS_REP_OBSERVATIONS_013_043/history/drifter/GL_TS_DB_4401763.nc\u001b[39m\n"
     ]
    },
    {
     "name": "stderr",
     "output_type": "stream",
     "text": [
      "100  813k  100  813k    0     0   173k      0  0:00:04  0:00:04 --:--:--  182k\n",
      "  % Total    % Received % Xferd  Average Speed   Time    Time     Time  Current\n",
      "                                 Dload  Upload   Total   Spent    Left  Speed\n",
      "100  864k  100  864k    0     0   185k      0  0:00:04  0:00:04 --:--:--  253k\n"
     ]
    },
    {
     "name": "stdout",
     "output_type": "stream",
     "text": [
      "Downloading \u001b[32mftp://my.cmems-du.eu/Core/INSITU_NWS_TS_REP_OBSERVATIONS_013_043/history/drifter/GL_TS_DB_4401766.nc\u001b[39m\n"
     ]
    },
    {
     "name": "stderr",
     "output_type": "stream",
     "text": [
      "  % Total    % Received % Xferd  Average Speed   Time    Time     Time  Current\n",
      "                                 Dload  Upload   Total   Spent    Left  Speed\n",
      "100  838k  100  838k    0     0   179k      0  0:00:04  0:00:04 --:--:--  248k\n"
     ]
    },
    {
     "name": "stdout",
     "output_type": "stream",
     "text": [
      "Downloading \u001b[32mftp://my.cmems-du.eu/Core/INSITU_NWS_TS_REP_OBSERVATIONS_013_043/history/drifter/GL_TS_DB_4401768.nc\u001b[39m\n"
     ]
    },
    {
     "name": "stderr",
     "output_type": "stream",
     "text": [
      "  % Total    % Received % Xferd  Average Speed   Time    Time     Time  Current\n",
      "                                 Dload  Upload   Total   Spent    Left  Speed\n",
      "100  773k  100  773k    0     0   177k      0  0:00:04  0:00:04 --:--:--  177k\n"
     ]
    },
    {
     "name": "stdout",
     "output_type": "stream",
     "text": [
      "Downloading \u001b[32mftp://my.cmems-du.eu/Core/INSITU_NWS_TS_REP_OBSERVATIONS_013_043/history/drifter/GL_TS_DB_4401769.nc\u001b[39m\n"
     ]
    },
    {
     "name": "stderr",
     "output_type": "stream",
     "text": [
      "  % Total    % Received % Xferd  Average Speed   Time    Time     Time  Current\n",
      "                                 Dload  Upload   Total   Spent    Left  Speed\n",
      "100  645k  100  645k    0     0   159k      0  0:00:04  0:00:04 --:--:--  159k\n"
     ]
    },
    {
     "name": "stdout",
     "output_type": "stream",
     "text": [
      "Downloading \u001b[32mftp://my.cmems-du.eu/Core/INSITU_NWS_TS_REP_OBSERVATIONS_013_043/history/drifter/GL_TS_DB_4401772.nc\u001b[39m\n"
     ]
    },
    {
     "name": "stderr",
     "output_type": "stream",
     "text": [
      "  % Total    % Received % Xferd  Average Speed   Time    Time     Time  Current\n",
      "                                 Dload  Upload   Total   Spent    Left  Speed\n",
      "100  409k  100  409k    0     0   123k      0  0:00:03  0:00:03 --:--:--  123k\n"
     ]
    },
    {
     "name": "stdout",
     "output_type": "stream",
     "text": [
      "Downloading \u001b[32mftp://my.cmems-du.eu/Core/INSITU_NWS_TS_REP_OBSERVATIONS_013_043/history/drifter/GL_TS_DB_4401775.nc\u001b[39m\n"
     ]
    },
    {
     "name": "stderr",
     "output_type": "stream",
     "text": [
      "  % Total    % Received % Xferd  Average Speed   Time    Time     Time  Current\n",
      "                                 Dload  Upload   Total   Spent    Left  Speed\n",
      "100  674k  100  674k    0     0   158k      0  0:00:04  0:00:04 --:--:--  158k\n"
     ]
    },
    {
     "name": "stdout",
     "output_type": "stream",
     "text": [
      "Downloading \u001b[32mftp://my.cmems-du.eu/Core/INSITU_NWS_TS_REP_OBSERVATIONS_013_043/history/drifter/GL_TS_DB_4401776.nc\u001b[39m\n"
     ]
    },
    {
     "name": "stderr",
     "output_type": "stream",
     "text": [
      "  % Total    % Received % Xferd  Average Speed   Time    Time     Time  Current\n",
      "                                 Dload  Upload   Total   Spent    Left  Speed\n",
      "100  587k  100  587k    0     0   151k      0  0:00:03  0:00:03 --:--:--  151k\n"
     ]
    },
    {
     "name": "stdout",
     "output_type": "stream",
     "text": [
      "Downloading \u001b[32mftp://my.cmems-du.eu/Core/INSITU_NWS_TS_REP_OBSERVATIONS_013_043/history/drifter/GL_TS_DB_4401777.nc\u001b[39m\n"
     ]
    },
    {
     "name": "stderr",
     "output_type": "stream",
     "text": [
      "  % Total    % Received % Xferd  Average Speed   Time    Time     Time  Current\n",
      "                                 Dload  Upload   Total   Spent    Left  Speed\n",
      " 76  567k   76  431k    0     0   123k      0  0:00:04  0:00:03  0:00:01  123k"
     ]
    },
    {
     "name": "stdout",
     "output_type": "stream",
     "text": [
      "Downloading \u001b[32mftp://my.cmems-du.eu/Core/INSITU_NWS_TS_REP_OBSERVATIONS_013_043/history/drifter/GL_TS_DB_4401778.nc\u001b[39m\n"
     ]
    },
    {
     "name": "stderr",
     "output_type": "stream",
     "text": [
      "100  567k  100  567k    0     0   144k      0  0:00:03  0:00:03 --:--:--  144k\n",
      "  % Total    % Received % Xferd  Average Speed   Time    Time     Time  Current\n",
      "                                 Dload  Upload   Total   Spent    Left  Speed\n",
      "100  805k  100  805k    0     0   157k      0  0:00:05  0:00:05 --:--:--  177k\n"
     ]
    },
    {
     "name": "stdout",
     "output_type": "stream",
     "text": [
      "Downloading \u001b[32mftp://my.cmems-du.eu/Core/INSITU_NWS_TS_REP_OBSERVATIONS_013_043/history/drifter/GL_TS_DB_4401779.nc\u001b[39m\n"
     ]
    },
    {
     "name": "stderr",
     "output_type": "stream",
     "text": [
      "  % Total    % Received % Xferd  Average Speed   Time    Time     Time  Current\n",
      "                                 Dload  Upload   Total   Spent    Left  Speed\n",
      "100  805k  100  805k    0     0   154k      0  0:00:05  0:00:05 --:--:--  216k\n"
     ]
    },
    {
     "name": "stdout",
     "output_type": "stream",
     "text": [
      "Downloading \u001b[32mftp://my.cmems-du.eu/Core/INSITU_NWS_TS_REP_OBSERVATIONS_013_043/history/drifter/GL_TS_DB_4401780.nc\u001b[39m\n"
     ]
    },
    {
     "name": "stderr",
     "output_type": "stream",
     "text": [
      "  % Total    % Received % Xferd  Average Speed   Time    Time     Time  Current\n",
      "                                 Dload  Upload   Total   Spent    Left  Speed\n",
      "100  551k  100  551k    0     0   127k      0  0:00:04  0:00:04 --:--:--  127k\n"
     ]
    },
    {
     "name": "stdout",
     "output_type": "stream",
     "text": [
      "Downloading \u001b[32mftp://my.cmems-du.eu/Core/INSITU_NWS_TS_REP_OBSERVATIONS_013_043/history/drifter/GL_TS_DB_4401781.nc\u001b[39m\n"
     ]
    },
    {
     "name": "stderr",
     "output_type": "stream",
     "text": [
      "  % Total    % Received % Xferd  Average Speed   Time    Time     Time  Current\n",
      "                                 Dload  Upload   Total   Spent    Left  Speed\n",
      "100  836k  100  836k    0     0   182k      0  0:00:04  0:00:04 --:--:--  251k\n"
     ]
    },
    {
     "name": "stdout",
     "output_type": "stream",
     "text": [
      "Downloading \u001b[32mftp://my.cmems-du.eu/Core/INSITU_NWS_TS_REP_OBSERVATIONS_013_043/history/drifter/GL_TS_DB_4401782.nc\u001b[39m\n"
     ]
    },
    {
     "name": "stderr",
     "output_type": "stream",
     "text": [
      "  % Total    % Received % Xferd  Average Speed   Time    Time     Time  Current\n",
      "                                 Dload  Upload   Total   Spent    Left  Speed\n",
      "100  834k  100  834k    0     0   181k      0  0:00:04  0:00:04 --:--:--  181k\n"
     ]
    },
    {
     "name": "stdout",
     "output_type": "stream",
     "text": [
      "Downloading \u001b[32mftp://my.cmems-du.eu/Core/INSITU_NWS_TS_REP_OBSERVATIONS_013_043/history/drifter/GL_TS_DB_4401784.nc\u001b[39m\n"
     ]
    },
    {
     "name": "stderr",
     "output_type": "stream",
     "text": [
      "  % Total    % Received % Xferd  Average Speed   Time    Time     Time  Current\n",
      "                                 Dload  Upload   Total   Spent    Left  Speed\n",
      " 83  802k   83  669k    0     0   164k      0  0:00:04  0:00:04 --:--:--  164k"
     ]
    },
    {
     "name": "stdout",
     "output_type": "stream",
     "text": [
      "Downloading \u001b[32mftp://my.cmems-du.eu/Core/INSITU_NWS_TS_REP_OBSERVATIONS_013_043/history/drifter/GL_TS_DB_4401786.nc\u001b[39m\n"
     ]
    },
    {
     "name": "stderr",
     "output_type": "stream",
     "text": [
      "100  802k  100  802k    0     0   179k      0  0:00:04  0:00:04 --:--:--  184k\n",
      "  % Total    % Received % Xferd  Average Speed   Time    Time     Time  Current\n",
      "                                 Dload  Upload   Total   Spent    Left  Speed\n",
      "100  828k  100  828k    0     0   175k      0  0:00:04  0:00:04 --:--:--  239k\n"
     ]
    },
    {
     "name": "stdout",
     "output_type": "stream",
     "text": [
      "Downloading \u001b[32mftp://my.cmems-du.eu/Core/INSITU_NWS_TS_REP_OBSERVATIONS_013_043/history/drifter/GL_TS_DB_4401795.nc\u001b[39m\n"
     ]
    },
    {
     "name": "stderr",
     "output_type": "stream",
     "text": [
      "  % Total    % Received % Xferd  Average Speed   Time    Time     Time  Current\n",
      "                                 Dload  Upload   Total   Spent    Left  Speed\n",
      "100  770k  100  770k    0     0   174k      0  0:00:04  0:00:04 --:--:--  174k\n"
     ]
    },
    {
     "name": "stdout",
     "output_type": "stream",
     "text": [
      "Downloading \u001b[32mftp://my.cmems-du.eu/Core/INSITU_NWS_TS_REP_OBSERVATIONS_013_043/history/drifter/GL_TS_DB_4401796.nc\u001b[39m\n"
     ]
    },
    {
     "name": "stderr",
     "output_type": "stream",
     "text": [
      "  % Total    % Received % Xferd  Average Speed   Time    Time     Time  Current\n",
      "                                 Dload  Upload   Total   Spent    Left  Speed\n",
      "100  511k  100  511k    0     0   138k      0  0:00:03  0:00:03 --:--:--  138k\n"
     ]
    },
    {
     "name": "stdout",
     "output_type": "stream",
     "text": [
      "Downloading \u001b[32mftp://my.cmems-du.eu/Core/INSITU_NWS_TS_REP_OBSERVATIONS_013_043/history/drifter/GL_TS_DB_4401797.nc\u001b[39m\n"
     ]
    },
    {
     "name": "stderr",
     "output_type": "stream",
     "text": [
      "  % Total    % Received % Xferd  Average Speed   Time    Time     Time  Current\n",
      "                                 Dload  Upload   Total   Spent    Left  Speed\n",
      "100  640k  100  640k    0     0   157k      0  0:00:04  0:00:04 --:--:--  157k\n"
     ]
    },
    {
     "name": "stdout",
     "output_type": "stream",
     "text": [
      "Downloading \u001b[32mftp://my.cmems-du.eu/Core/INSITU_NWS_TS_REP_OBSERVATIONS_013_043/history/drifter/GL_TS_DB_4401798.nc\u001b[39m\n"
     ]
    },
    {
     "name": "stderr",
     "output_type": "stream",
     "text": [
      "  % Total    % Received % Xferd  Average Speed   Time    Time     Time  Current\n",
      "                                 Dload  Upload   Total   Spent    Left  Speed\n",
      "100  443k  100  443k    0     0   126k      0  0:00:03  0:00:03 --:--:--  126k\n"
     ]
    },
    {
     "name": "stdout",
     "output_type": "stream",
     "text": [
      "Downloading \u001b[32mftp://my.cmems-du.eu/Core/INSITU_NWS_TS_REP_OBSERVATIONS_013_043/history/drifter/GL_TS_DB_4401905.nc\u001b[39m\n"
     ]
    },
    {
     "name": "stderr",
     "output_type": "stream",
     "text": [
      "  % Total    % Received % Xferd  Average Speed   Time    Time     Time  Current\n",
      "                                 Dload  Upload   Total   Spent    Left  Speed\n",
      "100  825k  100  825k    0     0   178k      0  0:00:04  0:00:04 --:--:--  248k\n"
     ]
    },
    {
     "name": "stdout",
     "output_type": "stream",
     "text": [
      "Downloading \u001b[32mftp://my.cmems-du.eu/Core/INSITU_NWS_TS_REP_OBSERVATIONS_013_043/history/drifter/GL_TS_DB_4600538.nc\u001b[39m\n"
     ]
    },
    {
     "name": "stderr",
     "output_type": "stream",
     "text": [
      "  % Total    % Received % Xferd  Average Speed   Time    Time     Time  Current\n",
      "                                 Dload  Upload   Total   Spent    Left  Speed\n",
      "100 1435k  100 1435k    0     0   226k      0  0:00:06  0:00:06 --:--:--  322k\n"
     ]
    },
    {
     "name": "stdout",
     "output_type": "stream",
     "text": [
      "Downloading \u001b[32mftp://my.cmems-du.eu/Core/INSITU_NWS_TS_REP_OBSERVATIONS_013_043/history/drifter/GL_TS_DB_4700539.nc\u001b[39m\n"
     ]
    },
    {
     "name": "stderr",
     "output_type": "stream",
     "text": [
      "  % Total    % Received % Xferd  Average Speed   Time    Time     Time  Current\n",
      "                                 Dload  Upload   Total   Spent    Left  Speed\n",
      "100 2358k  100 2358k    0     0   263k      0  0:00:08  0:00:08 --:--:--  347k\n"
     ]
    },
    {
     "name": "stdout",
     "output_type": "stream",
     "text": [
      "Downloading \u001b[32mftp://my.cmems-du.eu/Core/INSITU_NWS_TS_REP_OBSERVATIONS_013_043/history/drifter/GL_TS_DB_4700540.nc\u001b[39m\n"
     ]
    },
    {
     "name": "stderr",
     "output_type": "stream",
     "text": [
      "  % Total    % Received % Xferd  Average Speed   Time    Time     Time  Current\n",
      "                                 Dload  Upload   Total   Spent    Left  Speed\n",
      "100 2359k  100 2359k    0     0   262k      0  0:00:08  0:00:08 --:--:--  347k\n"
     ]
    },
    {
     "name": "stdout",
     "output_type": "stream",
     "text": [
      "Downloading \u001b[32mftp://my.cmems-du.eu/Core/INSITU_NWS_TS_REP_OBSERVATIONS_013_043/history/drifter/GL_TS_DB_4700551.nc\u001b[39m\n"
     ]
    },
    {
     "name": "stderr",
     "output_type": "stream",
     "text": [
      "  % Total    % Received % Xferd  Average Speed   Time    Time     Time  Current\n",
      "                                 Dload  Upload   Total   Spent    Left  Speed\n",
      " 70 1135k   70  802k    0     0   189k      0  0:00:05  0:00:04  0:00:01  189k"
     ]
    },
    {
     "name": "stdout",
     "output_type": "stream",
     "text": [
      "Downloading \u001b[32mftp://my.cmems-du.eu/Core/INSITU_NWS_TS_REP_OBSERVATIONS_013_043/history/drifter/GL_TS_DB_4700555.nc\u001b[39m\n"
     ]
    },
    {
     "name": "stderr",
     "output_type": "stream",
     "text": [
      "100 1135k  100 1135k    0     0   218k      0  0:00:05  0:00:05 --:--:--  229k\n",
      "  % Total    % Received % Xferd  Average Speed   Time    Time     Time  Current\n",
      "                                 Dload  Upload   Total   Spent    Left  Speed\n",
      "100 1355k  100 1355k    0     0   234k      0  0:00:05  0:00:05 --:--:--  294k\n"
     ]
    },
    {
     "name": "stdout",
     "output_type": "stream",
     "text": [
      "Downloading \u001b[32mftp://my.cmems-du.eu/Core/INSITU_NWS_TS_REP_OBSERVATIONS_013_043/history/drifter/GL_TS_DB_4700560.nc\u001b[39m\n"
     ]
    },
    {
     "name": "stderr",
     "output_type": "stream",
     "text": [
      "  % Total    % Received % Xferd  Average Speed   Time    Time     Time  Current\n",
      "                                 Dload  Upload   Total   Spent    Left  Speed\n",
      "100 2096k  100 2096k    0     0   266k      0  0:00:07  0:00:07 --:--:--  348k--:--:--  0:00:01 --:--:--     0\n"
     ]
    },
    {
     "name": "stdout",
     "output_type": "stream",
     "text": [
      "Downloading \u001b[32mftp://my.cmems-du.eu/Core/INSITU_NWS_TS_REP_OBSERVATIONS_013_043/history/drifter/GL_TS_DB_4700568.nc\u001b[39m\n"
     ]
    },
    {
     "name": "stderr",
     "output_type": "stream",
     "text": [
      "  % Total    % Received % Xferd  Average Speed   Time    Time     Time  Current\n",
      "                                 Dload  Upload   Total   Spent    Left  Speed\n",
      "100 1640k  100 1640k    0     0   251k      0  0:00:06  0:00:06 --:--:--  348k\n"
     ]
    },
    {
     "name": "stdout",
     "output_type": "stream",
     "text": [
      "Downloading \u001b[32mftp://my.cmems-du.eu/Core/INSITU_NWS_TS_REP_OBSERVATIONS_013_043/history/drifter/GL_TS_DB_4700584.nc\u001b[39m\n"
     ]
    },
    {
     "name": "stderr",
     "output_type": "stream",
     "text": [
      "  % Total    % Received % Xferd  Average Speed   Time    Time     Time  Current\n",
      "                                 Dload  Upload   Total   Spent    Left  Speed\n",
      "100 2346k  100 2346k    0     0   275k      0  0:00:08  0:00:08 --:--:--  348k\n"
     ]
    },
    {
     "name": "stdout",
     "output_type": "stream",
     "text": [
      "Downloading \u001b[32mftp://my.cmems-du.eu/Core/INSITU_NWS_TS_REP_OBSERVATIONS_013_043/history/drifter/GL_TS_DB_4701674.nc\u001b[39m\n"
     ]
    },
    {
     "name": "stderr",
     "output_type": "stream",
     "text": [
      "  % Total    % Received % Xferd  Average Speed   Time    Time     Time  Current\n",
      "                                 Dload  Upload   Total   Spent    Left  Speed\n",
      "100  713k  100  713k    0     0   184k      0  0:00:03  0:00:03 --:--:--  184k\n"
     ]
    },
    {
     "name": "stdout",
     "output_type": "stream",
     "text": [
      "Downloading \u001b[32mftp://my.cmems-du.eu/Core/INSITU_NWS_TS_REP_OBSERVATIONS_013_043/history/drifter/GL_TS_DB_4701677.nc\u001b[39m\n"
     ]
    },
    {
     "name": "stderr",
     "output_type": "stream",
     "text": [
      "  % Total    % Received % Xferd  Average Speed   Time    Time     Time  Current\n",
      "                                 Dload  Upload   Total   Spent    Left  Speed\n",
      "100  873k  100  873k    0     0   202k      0  0:00:04  0:00:04 --:--:--  206k\n"
     ]
    },
    {
     "name": "stdout",
     "output_type": "stream",
     "text": [
      "Downloading \u001b[32mftp://my.cmems-du.eu/Core/INSITU_NWS_TS_REP_OBSERVATIONS_013_043/history/drifter/GL_TS_DB_4802009.nc\u001b[39m\n"
     ]
    },
    {
     "name": "stderr",
     "output_type": "stream",
     "text": [
      "  % Total    % Received % Xferd  Average Speed   Time    Time     Time  Current\n",
      "                                 Dload  Upload   Total   Spent    Left  Speed\n",
      " 20  270k   20 57600    0     0  21682      0 --:--:--  0:00:01 --:--:--     0    0  0:00:12  0:00:02  0:00:10 21678"
     ]
    },
    {
     "name": "stdout",
     "output_type": "stream",
     "text": [
      "Downloading \u001b[32mftp://my.cmems-du.eu/Core/INSITU_NWS_TS_REP_OBSERVATIONS_013_043/history/drifter/GL_TS_DB_6200513.nc\u001b[39m\n"
     ]
    },
    {
     "name": "stderr",
     "output_type": "stream",
     "text": [
      "100  270k  100  270k    0     0  82008      0  0:00:03  0:00:03 --:--:-- 82035\n",
      "  % Total    % Received % Xferd  Average Speed   Time    Time     Time  Current\n",
      "                                 Dload  Upload   Total   Spent    Left  Speed\n",
      "100 2232k  100 2232k    0     0   250k      0  0:00:08  0:00:08 --:--:-1  348k"
     ]
    },
    {
     "name": "stdout",
     "output_type": "stream",
     "text": [
      "Downloading \u001b[32mftp://my.cmems-du.eu/Core/INSITU_NWS_TS_REP_OBSERVATIONS_013_043/history/drifter/GL_TS_DB_6200558.nc\u001b[39m\n"
     ]
    },
    {
     "name": "stderr",
     "output_type": "stream",
     "text": [
      "-  348k\n",
      "  % Total    % Received % Xferd  Average Speed   Time    Time     Time  Current\n",
      "                                 Dload  Upload   Total   Spent    Left  Speed\n",
      " 90 1284k   90 1168k    0     0   223k      0  0:00:05  0:00:05 --:--:--  234k 0"
     ]
    },
    {
     "name": "stdout",
     "output_type": "stream",
     "text": [
      "Downloading \u001b[32mftp://my.cmems-du.eu/Core/INSITU_NWS_TS_REP_OBSERVATIONS_013_043/history/drifter/GL_TS_DB_6200559.nc\u001b[39m\n"
     ]
    },
    {
     "name": "stderr",
     "output_type": "stream",
     "text": [
      "100 1284k  100 1284k    0     0   231k      0  0:00:05  0:00:05 --:--:--  299k\n",
      "  % Total    % Received % Xferd  Average Speed   Time    Time     Time  Current\n",
      "                                 Dload  Upload   Total   Spent    Left  Speed\n",
      "100 1396k  100 1396k    0     0   240k      0  0:00:05  0:00:05 --:--:--  331k\n"
     ]
    },
    {
     "name": "stdout",
     "output_type": "stream",
     "text": [
      "Downloading \u001b[32mftp://my.cmems-du.eu/Core/INSITU_NWS_TS_REP_OBSERVATIONS_013_043/history/drifter/GL_TS_DB_6203505.nc\u001b[39m\n"
     ]
    },
    {
     "name": "stderr",
     "output_type": "stream",
     "text": [
      "  % Total    % Received % Xferd  Average Speed   Time    Time     Time  Current\n",
      "                                 Dload  Upload   Total   Spent    Left  Speed\n",
      " 66  870k   66  576k    0     0   155k      0  0:00:05  0:00:03  0:00:02  155k"
     ]
    },
    {
     "name": "stdout",
     "output_type": "stream",
     "text": [
      "Downloading \u001b[32mftp://my.cmems-du.eu/Core/INSITU_NWS_TS_REP_OBSERVATIONS_013_043/history/drifter/GL_TS_DB_6203506.nc\u001b[39m\n"
     ]
    },
    {
     "name": "stderr",
     "output_type": "stream",
     "text": [
      "100  870k  100  870k    0     0   191k      0  0:00:04  0:00:04 --:--:--  191k\n",
      "  % Total    % Received % Xferd  Average Speed   Time    Time     Time  Current\n",
      "                                 Dload  Upload   Total   Spent    Left  Speed\n",
      " 90 1263k   90 1140k    0     0   224k      0  0:00:05  0:00:05 --:--:--  228k"
     ]
    },
    {
     "name": "stdout",
     "output_type": "stream",
     "text": [
      "Downloading \u001b[32mftp://my.cmems-du.eu/Core/INSITU_NWS_TS_REP_OBSERVATIONS_013_043/history/drifter/GL_TS_DB_6203518.nc\u001b[39m\n"
     ]
    },
    {
     "name": "stderr",
     "output_type": "stream",
     "text": [
      "100 1263k  100 1263k    0     0   231k      0  0:00:05  0:00:05 --:--:--  295k\n",
      "  % Total    % Received % Xferd  Average Speed   Time    Time     Time  Current\n",
      "                                 Dload  Upload   Total   Spent    Left  Speed\n",
      "100  492k  100  492k    0     0   150k      0  0:00:03  0:00:03 --:--:--  150k\n"
     ]
    },
    {
     "name": "stdout",
     "output_type": "stream",
     "text": [
      "Downloading \u001b[32mftp://my.cmems-du.eu/Core/INSITU_NWS_TS_REP_OBSERVATIONS_013_043/history/drifter/GL_TS_DB_6203523.nc\u001b[39m\n"
     ]
    },
    {
     "name": "stderr",
     "output_type": "stream",
     "text": [
      "  % Total    % Received % Xferd  Average Speed   Time    Time     Time  Current\n",
      "                                 Dload  Upload   Total   Spent    Left  Speed\n",
      "100  815k  100  815k    0     0   197k      0  0:00:04  0:00:04 --:--:--  197k\n"
     ]
    },
    {
     "name": "stdout",
     "output_type": "stream",
     "text": [
      "Downloading \u001b[32mftp://my.cmems-du.eu/Core/INSITU_NWS_TS_REP_OBSERVATIONS_013_043/history/drifter/GL_TS_DB_6203524.nc\u001b[39m\n"
     ]
    },
    {
     "name": "stderr",
     "output_type": "stream",
     "text": [
      "  % Total    % Received % Xferd  Average Speed   Time    Time     Time  Current\n",
      "                                 Dload  Upload   Total   Spent    Left  Speed\n",
      "100  467k  100  467k    0     0   148k      0  0:00:03  0:00:03 --:--:--  148k\n"
     ]
    },
    {
     "name": "stdout",
     "output_type": "stream",
     "text": [
      "Downloading \u001b[32mftp://my.cmems-du.eu/Core/INSITU_NWS_TS_REP_OBSERVATIONS_013_043/history/drifter/GL_TS_DB_6203526.nc\u001b[39m\n"
     ]
    },
    {
     "name": "stderr",
     "output_type": "stream",
     "text": [
      "  % Total    % Received % Xferd  Average Speed   Time    Time     Time  Current\n",
      "                                 Dload  Upload   Total   Spent    Left  Speed\n",
      "100 1156k  100 1156k    0     0   221k      0  0:00:05  0:00:05 --:--:--  286k\n"
     ]
    },
    {
     "name": "stdout",
     "output_type": "stream",
     "text": [
      "Downloading \u001b[32mftp://my.cmems-du.eu/Core/INSITU_NWS_TS_REP_OBSERVATIONS_013_043/history/drifter/GL_TS_DB_6203600.nc\u001b[39m\n"
     ]
    },
    {
     "name": "stderr",
     "output_type": "stream",
     "text": [
      "  % Total    % Received % Xferd  Average Speed   Time    Time     Time  Current\n",
      "                                 Dload  Upload   Total   Spent    Left  Speed\n",
      "100 1206k  100 1206k    0     0   227k      0  0:00:05  0:00:05 --:--:--  292k\n"
     ]
    },
    {
     "name": "stdout",
     "output_type": "stream",
     "text": [
      "Downloading \u001b[32mftp://my.cmems-du.eu/Core/INSITU_NWS_TS_REP_OBSERVATIONS_013_043/history/drifter/GL_TS_DB_6203601.nc\u001b[39m\n"
     ]
    },
    {
     "name": "stderr",
     "output_type": "stream",
     "text": [
      "  % Total    % Received % Xferd  Average Speed   Time    Time     Time  Current\n",
      "                                 Dload  Upload   Total   Spent    Left  Speed\n",
      "100 1209k  100 1209k    0     0   229k      0  0:00:05  0:00:05 --:--:--  292k\n"
     ]
    },
    {
     "name": "stdout",
     "output_type": "stream",
     "text": [
      "Downloading \u001b[32mftp://my.cmems-du.eu/Core/INSITU_NWS_TS_REP_OBSERVATIONS_013_043/history/drifter/GL_TS_DB_6203602.nc\u001b[39m\n"
     ]
    },
    {
     "name": "stderr",
     "output_type": "stream",
     "text": [
      "  % Total    % Received % Xferd  Average Speed   Time    Time     Time  Current\n",
      "                                 Dload  Upload   Total   Spent    Left  Speed\n",
      "100 1075k  100 1075k    0     0   218k      0  0:00:04  0:00:04 --:--:--  286k\n"
     ]
    },
    {
     "name": "stdout",
     "output_type": "stream",
     "text": [
      "Downloading \u001b[32mftp://my.cmems-du.eu/Core/INSITU_NWS_TS_REP_OBSERVATIONS_013_043/history/drifter/GL_TS_DB_6203603.nc\u001b[39m\n"
     ]
    },
    {
     "name": "stderr",
     "output_type": "stream",
     "text": [
      "  % Total    % Received % Xferd  Average Speed   Time    Time     Time  Current\n",
      "                                 Dload  Upload   Total   Spent    Left  Speed\n",
      " 97 1067k   97 1036k    0     0   217k      0  0:00:04  0:00:04 --:--:--  217k"
     ]
    },
    {
     "name": "stdout",
     "output_type": "stream",
     "text": [
      "Downloading \u001b[32mftp://my.cmems-du.eu/Core/INSITU_NWS_TS_REP_OBSERVATIONS_013_043/history/drifter/GL_TS_DB_6203604.nc\u001b[39m\n"
     ]
    },
    {
     "name": "stderr",
     "output_type": "stream",
     "text": [
      "100 1067k  100 1067k    0     0   220k      0  0:00:04  0:00:04 --:--:--  287k\n",
      "  % Total    % Received % Xferd  Average Speed   Time    Time     Time  Current\n",
      "                                 Dload  Upload   Total   Spent    Left  Speed\n",
      " 71  986k   71  701k    0     0   183k      0  0:00:05  0:00:03  0:00:02  182k"
     ]
    },
    {
     "name": "stdout",
     "output_type": "stream",
     "text": [
      "Downloading \u001b[32mftp://my.cmems-du.eu/Core/INSITU_NWS_TS_REP_OBSERVATIONS_013_043/history/drifter/GL_TS_DB_6203605.nc\u001b[39m\n"
     ]
    },
    {
     "name": "stderr",
     "output_type": "stream",
     "text": [
      "100  986k  100  986k    0     0   212k      0  0:00:04  0:00:04 --:--:--  212k\n",
      "  % Total    % Received % Xferd  Average Speed   Time    Time     Time  Current\n",
      "                                 Dload  Upload   Total   Spent    Left  Speed\n",
      "100  781k  100  781k    0     0   191k      0  0:00:04  0:00:04 --:--:--  191k\n"
     ]
    },
    {
     "name": "stdout",
     "output_type": "stream",
     "text": [
      "Downloading \u001b[32mftp://my.cmems-du.eu/Core/INSITU_NWS_TS_REP_OBSERVATIONS_013_043/history/drifter/GL_TS_DB_6300566.nc\u001b[39m\n"
     ]
    },
    {
     "name": "stderr",
     "output_type": "stream",
     "text": [
      "  % Total    % Received % Xferd  Average Speed   Time    Time     Time  Current\n",
      "                                 Dload  Upload   Total   Spent    Left  Speed\n",
      "100 1322k  100 1322k    0     0   236k      0  0:00:05  0:00:05 --:--:--  299k\n"
     ]
    },
    {
     "name": "stdout",
     "output_type": "stream",
     "text": [
      "Downloading \u001b[32mftp://my.cmems-du.eu/Core/INSITU_NWS_TS_REP_OBSERVATIONS_013_043/history/drifter/GL_TS_DB_6300568.nc\u001b[39m\n"
     ]
    },
    {
     "name": "stderr",
     "output_type": "stream",
     "text": [
      "  % Total    % Received % Xferd  Average Speed   Time    Time     Time  Current\n",
      "                                 Dload  Upload   Total   Spent    Left  Speed\n",
      "100  671k  100  671k    0     0   178k      0  0:00:03  0:00:03 --:--:--  177k\n"
     ]
    },
    {
     "name": "stdout",
     "output_type": "stream",
     "text": [
      "Downloading \u001b[32mftp://my.cmems-du.eu/Core/INSITU_NWS_TS_REP_OBSERVATIONS_013_043/history/drifter/GL_TS_DB_6300646.nc\u001b[39m\n"
     ]
    },
    {
     "name": "stderr",
     "output_type": "stream",
     "text": [
      "  % Total    % Received % Xferd  Average Speed   Time    Time     Time  Current\n",
      "                                 Dload  Upload   Total   Spent    Left  Speed\n",
      " 85 1492k   85 1272k    0     0   234k      0  0:00:06  0:00:05  0:00:01  297k"
     ]
    },
    {
     "name": "stdout",
     "output_type": "stream",
     "text": [
      "Downloading \u001b[32mftp://my.cmems-du.eu/Core/INSITU_NWS_TS_REP_OBSERVATIONS_013_043/history/drifter/GL_TS_DB_6301554.nc\u001b[39m\n"
     ]
    },
    {
     "name": "stderr",
     "output_type": "stream",
     "text": [
      "100 1492k  100 1492k    0     0   246k      0  0:00:06  0:00:06 --:--:--  324k\n",
      "  % Total    % Received % Xferd  Average Speed   Time    Time     Time  Current\n",
      "                                 Dload  Upload   Total   Spent    Left  Speed\n",
      "100  514k  100  514k    0     0   153k      0  0:00:03  0:00:03 --:--:--  153k\n"
     ]
    },
    {
     "name": "stdout",
     "output_type": "stream",
     "text": [
      "Downloading \u001b[32mftp://my.cmems-du.eu/Core/INSITU_NWS_TS_REP_OBSERVATIONS_013_043/history/drifter/GL_TS_DB_6301555.nc\u001b[39m\n"
     ]
    },
    {
     "name": "stderr",
     "output_type": "stream",
     "text": [
      "  % Total    % Received % Xferd  Average Speed   Time    Time     Time  Current\n",
      "                                 Dload  Upload   Total   Spent    Left  Speed\n",
      "100 1176k  100 1176k    0     0   219k      0  0:00:05  0:00:05 --:--:--  286k\n"
     ]
    },
    {
     "name": "stdout",
     "output_type": "stream",
     "text": [
      "Downloading \u001b[32mftp://my.cmems-du.eu/Core/INSITU_NWS_TS_REP_OBSERVATIONS_013_043/history/drifter/GL_TS_DB_6301556.nc\u001b[39m\n"
     ]
    },
    {
     "name": "stderr",
     "output_type": "stream",
     "text": [
      "  % Total    % Received % Xferd  Average Speed   Time    Time     Time  Current\n",
      "                                 Dload  Upload   Total   Spent    Left  Speed\n",
      " 64  832k   64  538k    0     0   157k      0  0:00:05  0:00:03  0:00:02  157k"
     ]
    },
    {
     "name": "stdout",
     "output_type": "stream",
     "text": [
      "Downloading \u001b[32mftp://my.cmems-du.eu/Core/INSITU_NWS_TS_REP_OBSERVATIONS_013_043/history/drifter/GL_TS_DB_6401689.nc\u001b[39m\n"
     ]
    },
    {
     "name": "stderr",
     "output_type": "stream",
     "text": [
      "100  832k  100  832k    0     0   194k      0  0:00:04  0:00:04 --:--:--  194k\n",
      "  % Total    % Received % Xferd  Average Speed   Time    Time     Time  Current\n",
      "                                 Dload  Upload   Total   Spent    Left  Speed\n",
      "100  687k  100  687k    0     0   180k      0  0:00:03  0:00:03 --:--:--  180k\n"
     ]
    },
    {
     "name": "stdout",
     "output_type": "stream",
     "text": [
      "Downloading \u001b[32mftp://my.cmems-du.eu/Core/INSITU_NWS_TS_REP_OBSERVATIONS_013_043/history/drifter/GL_TS_DB_6401690.nc\u001b[39m\n"
     ]
    },
    {
     "name": "stderr",
     "output_type": "stream",
     "text": [
      "  % Total    % Received % Xferd  Average Speed   Time    Time     Time  Current\n",
      "                                 Dload  Upload   Total   Spent    Left  Speed\n",
      " 78 1075k   78  845k    0     0   201k      0  0:00:05  0:00:04  0:00:01  201k"
     ]
    },
    {
     "name": "stdout",
     "output_type": "stream",
     "text": [
      "Downloading \u001b[32mftp://my.cmems-du.eu/Core/INSITU_NWS_TS_REP_OBSERVATIONS_013_043/history/drifter/GL_TS_DB_6401691.nc\u001b[39m\n"
     ]
    },
    {
     "name": "stderr",
     "output_type": "stream",
     "text": [
      "100 1075k  100 1075k    0     0   221k      0  0:00:04  0:00:04 --:--:--  231k\n",
      "  % Total    % Received % Xferd  Average Speed   Time    Time     Time  Current\n",
      "                                 Dload  Upload   Total   Spent    Left  Speed\n",
      "100  820k  100  820k    0     0   171k      0  0:00:04  0:00:04 --:--:--  228k\n"
     ]
    },
    {
     "name": "stdout",
     "output_type": "stream",
     "text": [
      "Downloading \u001b[32mftp://my.cmems-du.eu/Core/INSITU_NWS_TS_REP_OBSERVATIONS_013_043/history/drifter/GL_TS_DB_6401692.nc\u001b[39m\n"
     ]
    },
    {
     "name": "stderr",
     "output_type": "stream",
     "text": [
      "  % Total    % Received % Xferd  Average Speed   Time    Time     Time  Current\n",
      "                                 Dload  Upload   Total   Spent    Left  Speed\n",
      "100  956k  100  956k    0     0   177k      0  0:00:05  0:00:05 --:--:--  240k\n"
     ]
    },
    {
     "name": "stdout",
     "output_type": "stream",
     "text": [
      "Downloading \u001b[32mftp://my.cmems-du.eu/Core/INSITU_NWS_TS_REP_OBSERVATIONS_013_043/history/drifter/GL_TS_DB_6401693.nc\u001b[39m\n"
     ]
    },
    {
     "name": "stderr",
     "output_type": "stream",
     "text": [
      "  % Total    % Received % Xferd  Average Speed   Time    Time     Time  Current\n",
      "                                 Dload  Upload   Total   Spent    Left  Speed\n",
      "100  983k  100  983k    0     0   211k      0  0:00:04  0:00:04 --:--:--  211k\n"
     ]
    },
    {
     "name": "stdout",
     "output_type": "stream",
     "text": [
      "Downloading \u001b[32mftp://my.cmems-du.eu/Core/INSITU_NWS_TS_REP_OBSERVATIONS_013_043/history/drifter/GL_TS_DB_6401694.nc\u001b[39m\n"
     ]
    },
    {
     "name": "stderr",
     "output_type": "stream",
     "text": [
      "  % Total    % Received % Xferd  Average Speed   Time    Time     Time  Current\n",
      "                                 Dload  Upload   Total   Spent    Left  Speed\n",
      "100  390k  100  390k    0     0   134k      0  0:00:02  0:00:02 --:--:--  134k\n"
     ]
    },
    {
     "name": "stdout",
     "output_type": "stream",
     "text": [
      "Downloading \u001b[32mftp://my.cmems-du.eu/Core/INSITU_NWS_TS_REP_OBSERVATIONS_013_043/history/drifter/GL_TS_DB_6401695.nc\u001b[39m\n"
     ]
    },
    {
     "name": "stderr",
     "output_type": "stream",
     "text": [
      "  % Total    % Received % Xferd  Average Speed   Time    Time     Time  Current\n",
      "                                 Dload  Upload   Total   Spent    Left  Speed\n",
      "100  392k  100  392k    0     0   135k      0  0:00:02  0:00:02 --:--:--  135k\n"
     ]
    },
    {
     "name": "stdout",
     "output_type": "stream",
     "text": [
      "Downloading \u001b[32mftp://my.cmems-du.eu/Core/INSITU_NWS_TS_REP_OBSERVATIONS_013_043/history/drifter/GL_TS_DB_6401696.nc\u001b[39m\n"
     ]
    },
    {
     "name": "stderr",
     "output_type": "stream",
     "text": [
      "  % Total    % Received % Xferd  Average Speed   Time    Time     Time  Current\n",
      "                                 Dload  Upload   Total   Spent    Left  Speed\n",
      "100  626k  100  626k    0     0   174k      0  0:00:03  0:00:03 --:--:--  174k\n"
     ]
    },
    {
     "name": "stdout",
     "output_type": "stream",
     "text": [
      "Downloading \u001b[32mftp://my.cmems-du.eu/Core/INSITU_NWS_TS_REP_OBSERVATIONS_013_043/history/drifter/GL_TS_DB_6401697.nc\u001b[39m\n"
     ]
    },
    {
     "name": "stderr",
     "output_type": "stream",
     "text": [
      "  % Total    % Received % Xferd  Average Speed   Time    Time     Time  Current\n",
      "                                 Dload  Upload   Total   Spent    Left  Speed\n",
      " 76  749k   76  572k    0     0   161k      0  0:00:04  0:00:03  0:00:01  161k"
     ]
    },
    {
     "name": "stdout",
     "output_type": "stream",
     "text": [
      "Downloading \u001b[32mftp://my.cmems-du.eu/Core/INSITU_NWS_TS_REP_OBSERVATIONS_013_043/history/drifter/GL_TS_DB_6401698.nc\u001b[39m\n"
     ]
    },
    {
     "name": "stderr",
     "output_type": "stream",
     "text": [
      "100  749k  100  749k    0     0   184k      0  0:00:04  0:00:04 --:--:--  184k\n",
      "  % Total    % Received % Xferd  Average Speed   Time    Time     Time  Current\n",
      "                                 Dload  Upload   Total   Spent    Left  Speed\n",
      " 96  883k   96  852k    0     0   192k      0  0:00:04  0:00:04 --:--:--  192k"
     ]
    },
    {
     "name": "stdout",
     "output_type": "stream",
     "text": [
      "Downloading \u001b[32mftp://my.cmems-du.eu/Core/INSITU_NWS_TS_REP_OBSERVATIONS_013_043/history/drifter/GL_TS_DB_6500519.nc\u001b[39m\n"
     ]
    },
    {
     "name": "stderr",
     "output_type": "stream",
     "text": [
      "100  883k  100  883k    0     0   195k      0  0:00:04  0:00:04 --:--:--  270k\n",
      "  % Total    % Received % Xferd  Average Speed   Time    Time     Time  Current\n",
      "                                 Dload  Upload   Total   Spent    Left  Speed\n",
      " 94 1841k   94 1733k    0     0   254k      0  0:00:07  0:00:06  0:00:01  346k  0  0:00:15  0:00:02  0:00:13  121k7  181k"
     ]
    },
    {
     "name": "stdout",
     "output_type": "stream",
     "text": [
      "Downloading \u001b[32mftp://my.cmems-du.eu/Core/INSITU_NWS_TS_REP_OBSERVATIONS_013_043/history/drifter/GL_TS_DB_6500596.nc\u001b[39m\n"
     ]
    },
    {
     "name": "stderr",
     "output_type": "stream",
     "text": [
      "100 1841k  100 1841k    0     0   258k      0  0:00:07  0:00:07 --:--:--  347k\n",
      "  % Total    % Received % Xferd  Average Speed   Time    Time     Time  Current\n",
      "                                 Dload  Upload   Total   Spent    Left  Speed\n",
      " 88 2668k   88 2370k    0     0   275k      0  0:00:09  0:00:08  0:00:01  348k"
     ]
    },
    {
     "name": "stdout",
     "output_type": "stream",
     "text": [
      "Downloading \u001b[32mftp://my.cmems-du.eu/Core/INSITU_NWS_TS_REP_OBSERVATIONS_013_043/history/drifter/GL_TS_DB_6500599.nc\u001b[39m\n"
     ]
    },
    {
     "name": "stderr",
     "output_type": "stream",
     "text": [
      "100 2668k  100 2668k    0     0   281k      0  0:00:09  0:00:09 --:--:--  348k\n",
      "  % Total    % Received % Xferd  Average Speed   Time    Time     Time  Current\n",
      "                                 Dload  Upload   Total   Spent    Left  Speed\n",
      "100 2307k  100 2307k    0     0   273k      0  0:00:08  0:00:08 --:--:--  348k\n"
     ]
    },
    {
     "name": "stdout",
     "output_type": "stream",
     "text": [
      "Downloading \u001b[32mftp://my.cmems-du.eu/Core/INSITU_NWS_TS_REP_OBSERVATIONS_013_043/history/drifter/GL_TS_DB_6500602.nc\u001b[39m\n"
     ]
    },
    {
     "name": "stderr",
     "output_type": "stream",
     "text": [
      "  % Total    % Received % Xferd  Average Speed   Time    Time     Time  Current\n",
      "                                 Dload  Upload   Total   Spent    Left  Speed\n",
      " 95 2477k   95 2354k    0     0   275k      0  0:00:09  0:00:08  0:00:01  348k"
     ]
    },
    {
     "name": "stdout",
     "output_type": "stream",
     "text": [
      "Downloading \u001b[32mftp://my.cmems-du.eu/Core/INSITU_NWS_TS_REP_OBSERVATIONS_013_043/history/drifter/GL_TS_DB_6501551.nc\u001b[39m\n"
     ]
    },
    {
     "name": "stderr",
     "output_type": "stream",
     "text": [
      "100 2477k  100 2477k    0     0   277k      0  0:00:08  0:00:08 --:--:--  348k\n",
      "  % Total    % Received % Xferd  Average Speed   Time    Time     Time  Current\n",
      "                                 Dload  Upload   Total   Spent    Left  Speed\n",
      "100 1565k  100 1565k    0     0   244k      0  0:00:06  0:00:06 --:--:--  323k\n"
     ]
    },
    {
     "name": "stdout",
     "output_type": "stream",
     "text": [
      "Downloading \u001b[32mftp://my.cmems-du.eu/Core/INSITU_NWS_TS_REP_OBSERVATIONS_013_043/history/drifter/GL_TS_DB_6501553.nc\u001b[39m\n"
     ]
    },
    {
     "name": "stderr",
     "output_type": "stream",
     "text": [
      "  % Total    % Received % Xferd  Average Speed   Time    Time     Time  Current\n",
      "                                 Dload  Upload   Total   Spent    Left  Speed\n",
      "100 1855k  100 1855k    0     0   258k      0  0:00:07  0:00:07 --:--:--  348k\n"
     ]
    },
    {
     "name": "stdout",
     "output_type": "stream",
     "text": [
      "Downloading \u001b[32mftp://my.cmems-du.eu/Core/INSITU_NWS_TS_REP_OBSERVATIONS_013_043/history/drifter/GL_TS_DB_6501556.nc\u001b[39m\n"
     ]
    },
    {
     "name": "stderr",
     "output_type": "stream",
     "text": [
      "  % Total    % Received % Xferd  Average Speed   Time    Time     Time  Current\n",
      "                                 Dload  Upload   Total   Spent    Left  Speed\n",
      "100 1899k  100 1899k    0     0   259k      0  0:00:07  0:00:07 --:--:--  348k\n"
     ]
    },
    {
     "name": "stdout",
     "output_type": "stream",
     "text": [
      "Downloading \u001b[32mftp://my.cmems-du.eu/Core/INSITU_NWS_TS_REP_OBSERVATIONS_013_043/history/etc/GL_PR_TE_9900957.nc\u001b[39m\n"
     ]
    },
    {
     "name": "stderr",
     "output_type": "stream",
     "text": [
      "  % Total    % Received % Xferd  Average Speed   Time    Time     Time  Current\n",
      "                                 Dload  Upload   Total   Spent    Left  Speed\n",
      "100  100k  100  100k    0     0  48929      0  0:00:02  0:00:02 --:--:-- 48945\n"
     ]
    },
    {
     "name": "stdout",
     "output_type": "stream",
     "text": [
      "Downloading \u001b[32mftp://my.cmems-du.eu/Core/INSITU_NWS_TS_REP_OBSERVATIONS_013_043/history/etc/GL_PR_TE_9900960.nc\u001b[39m\n"
     ]
    },
    {
     "name": "stderr",
     "output_type": "stream",
     "text": [
      "  % Total    % Received % Xferd  Average Speed   Time    Time     Time  Current\n",
      "                                 Dload  Upload   Total   Spent    Left  Speed\n",
      "100  150k  100  150k    0     0  65634      0  0:00:02  0:00:02 --:--:-- 65623\n"
     ]
    },
    {
     "name": "stdout",
     "output_type": "stream",
     "text": [
      "Downloading \u001b[32mftp://my.cmems-du.eu/Core/INSITU_NWS_TS_REP_OBSERVATIONS_013_043/history/etc/GL_PR_TE_9900965.nc\u001b[39m\n"
     ]
    },
    {
     "name": "stderr",
     "output_type": "stream",
     "text": [
      "  % Total    % Received % Xferd  Average Speed   Time    Time     Time  Current\n",
      "                                 Dload  Upload   Total   Spent    Left  Speed\n",
      "  0 53944    0     0    0     0      0      0 --:--:--  0:00:01 --:--:--     0"
     ]
    },
    {
     "name": "stdout",
     "output_type": "stream",
     "text": [
      "Downloading \u001b[32mftp://my.cmems-du.eu/Core/INSITU_NWS_TS_REP_OBSERVATIONS_013_043/history/etc/GL_PR_TE_9900966.nc\u001b[39m\n"
     ]
    },
    {
     "name": "stderr",
     "output_type": "stream",
     "text": [
      "100 53944  100 53944    0     0  27290      0  0:00:01  0:00:01 --:--:-- 27285\n",
      "  % Total    % Received % Xferd  Average Speed   Time    Time     Time  Current\n",
      "                                 Dload  Upload   Total   Spent    Left  Speed\n",
      "100  201k  100  201k    0     0  87675      0  0:00:02  0:00:02 --:--:-- 87681\n"
     ]
    },
    {
     "name": "stdout",
     "output_type": "stream",
     "text": [
      "Downloading \u001b[32mftp://my.cmems-du.eu/Core/INSITU_NWS_TS_REP_OBSERVATIONS_013_043/history/etc/GL_PR_TE_9900967.nc\u001b[39m\n"
     ]
    },
    {
     "name": "stderr",
     "output_type": "stream",
     "text": [
      "  % Total    % Received % Xferd  Average Speed   Time    Time     Time  Current\n",
      "                                 Dload  Upload   Total   Spent    Left  Speed\n",
      "  0     0    0     0    0     0      0      0 --:--:--  0:00:01 --:--:--     0"
     ]
    },
    {
     "name": "stdout",
     "output_type": "stream",
     "text": [
      "Downloading \u001b[32mftp://my.cmems-du.eu/Core/INSITU_NWS_TS_REP_OBSERVATIONS_013_043/history/etc/GL_PR_TE_9900970.nc\u001b[39m\n"
     ]
    },
    {
     "name": "stderr",
     "output_type": "stream",
     "text": [
      "100 34732  100 34732    0     0  18200      0  0:00:01  0:00:01 --:--:-- 18193\n",
      "  % Total    % Received % Xferd  Average Speed   Time    Time     Time  Current\n",
      "                                 Dload  Upload   Total   Spent    Left  Speed\n",
      "100  131k  100  131k    0     0  62029      0  0:00:02  0:00:02 --:--:-- 62055\n"
     ]
    },
    {
     "name": "stdout",
     "output_type": "stream",
     "text": [
      "Downloading \u001b[32mftp://my.cmems-du.eu/Core/INSITU_NWS_TS_REP_OBSERVATIONS_013_043/history/etc/GL_PR_TE_9900971.nc\u001b[39m\n"
     ]
    },
    {
     "name": "stderr",
     "output_type": "stream",
     "text": [
      "  % Total    % Received % Xferd  Average Speed   Time    Time     Time  Current\n",
      "                                 Dload  Upload   Total   Spent    Left  Speed\n",
      "  0     0    0     0    0     0      0      0 --:--:--  0:00:01 --:--:--     0"
     ]
    },
    {
     "name": "stdout",
     "output_type": "stream",
     "text": [
      "Downloading \u001b[32mftp://my.cmems-du.eu/Core/INSITU_NWS_TS_REP_OBSERVATIONS_013_043/history/etc/GL_PR_TE_9900972.nc\u001b[39m\n"
     ]
    },
    {
     "name": "stderr",
     "output_type": "stream",
     "text": [
      "100  109k  100  109k    0     0  53603      0  0:00:02  0:00:02 --:--:-- 53581\n",
      "  % Total    % Received % Xferd  Average Speed   Time    Time     Time  Current\n",
      "                                 Dload  Upload   Total   Spent    Left  Speed\n",
      "  0     0    0     0    0     0      0      0 --:--:--  0:00:01 --:--:--     0"
     ]
    },
    {
     "name": "stdout",
     "output_type": "stream",
     "text": [
      "Downloading \u001b[32mftp://my.cmems-du.eu/Core/INSITU_NWS_TS_REP_OBSERVATIONS_013_043/history/etc/GL_PR_TE_9900973.nc\u001b[39m\n"
     ]
    },
    {
     "name": "stderr",
     "output_type": "stream",
     "text": [
      "100 24664  100 24664    0     0  12840      0  0:00:01  0:00:01 --:--:-- 12839\n",
      "  % Total    % Received % Xferd  Average Speed   Time    Time     Time  Current\n",
      "                                 Dload  Upload   Total   Spent    Left  Speed\n",
      "100 55164  100 55164    0     0  27986      0  0:00:01  0:00:01 --:--:-- 27987358\n"
     ]
    },
    {
     "name": "stdout",
     "output_type": "stream",
     "text": [
      "Downloading \u001b[32mftp://my.cmems-du.eu/Core/INSITU_NWS_TS_REP_OBSERVATIONS_013_043/history/etc/GL_PR_TE_9900974.nc\u001b[39m\n"
     ]
    },
    {
     "name": "stderr",
     "output_type": "stream",
     "text": [
      "  % Total    % Received % Xferd  Average Speed   Time    Time     Time  Current\n",
      "                                 Dload  Upload   Total   Spent    Left  Speed\n",
      " 22  100k   22 23040    0     0  12383      0  0:00:08  0:00:01  0:00:07 12380"
     ]
    },
    {
     "name": "stdout",
     "output_type": "stream",
     "text": [
      "Downloading \u001b[32mftp://my.cmems-du.eu/Core/INSITU_NWS_TS_REP_OBSERVATIONS_013_043/history/etc/GL_PR_TE_9900979.nc\u001b[39m\n"
     ]
    },
    {
     "name": "stderr",
     "output_type": "stream",
     "text": [
      "100  100k  100  100k    0     0  49387      0  0:00:02  0:00:02 --:--:-- 49405\n",
      "  % Total    % Received % Xferd  Average Speed   Time    Time     Time  Current\n",
      "                                 Dload  Upload   Total   Spent    Left  Speed\n",
      "100  147k  100  147k    0     0  67336      0  0:00:02  0:00:02 --:--:-- 67352\n"
     ]
    },
    {
     "name": "stdout",
     "output_type": "stream",
     "text": [
      "Downloading \u001b[32mftp://my.cmems-du.eu/Core/INSITU_NWS_TS_REP_OBSERVATIONS_013_043/history/etc/GL_PR_TE_9900983.nc\u001b[39m\n"
     ]
    },
    {
     "name": "stderr",
     "output_type": "stream",
     "text": [
      "  % Total    % Received % Xferd  Average Speed   Time    Time     Time  Current\n",
      "                                 Dload  Upload   Total   Spent    Left  Speed\n",
      "100  142k  100  142k    0     0  66879      0  0:00:02  0:00:02 --:--:--     0"
     ]
    },
    {
     "name": "stdout",
     "output_type": "stream",
     "text": [
      "Downloading \u001b[32mftp://my.cmems-du.eu/Core/INSITU_NWS_TS_REP_OBSERVATIONS_013_043/history/etc/GL_PR_TE_9901000.nc\u001b[39m\n"
     ]
    },
    {
     "name": "stderr",
     "output_type": "stream",
     "text": [
      "--:-- 66901\n",
      "  % Total    % Received % Xferd  Average Speed   Time    Time     Time  Current\n",
      "                                 Dload  Upload   Total   Spent    Left  Speed\n",
      "100  192k  100  192k    0     0  79698      0  0:00:02  0:00:02 --:--:-- 79697\n"
     ]
    },
    {
     "name": "stdout",
     "output_type": "stream",
     "text": [
      "Downloading \u001b[32mftp://my.cmems-du.eu/Core/INSITU_NWS_TS_REP_OBSERVATIONS_013_043/history/etc/GL_PR_TE_9901001.nc\u001b[39m\n"
     ]
    },
    {
     "name": "stderr",
     "output_type": "stream",
     "text": [
      "  % Total    % Received % Xferd  Average Speed   Time    Time     Time  Current\n",
      "                                 Dload  Upload   Total   Spent    Left  Speed\n",
      "  0     0    0     0    0     0      0      0 --:--:--  0:00:01 --:--:--     0"
     ]
    },
    {
     "name": "stdout",
     "output_type": "stream",
     "text": [
      "Downloading \u001b[32mftp://my.cmems-du.eu/Core/INSITU_NWS_TS_REP_OBSERVATIONS_013_043/history/etc/GL_PR_TE_9901002.nc\u001b[39m\n"
     ]
    },
    {
     "name": "stderr",
     "output_type": "stream",
     "text": [
      "100 62540  100 62540    0     0  32066      0  0:00:01  0:00:01 --:--:-- 32055\n",
      "  % Total    % Received % Xferd  Average Speed   Time    Time     Time  Current\n",
      "                                 Dload  Upload   Total   Spent    Left  Speed\n",
      "100  118k  100  118k    0     0  47042      0  0:00:02  0:00:02 --:--:-- 47039\n"
     ]
    },
    {
     "name": "stdout",
     "output_type": "stream",
     "text": [
      "Downloading \u001b[32mftp://my.cmems-du.eu/Core/INSITU_NWS_TS_REP_OBSERVATIONS_013_043/history/etc/GL_PR_TE_9901003.nc\u001b[39m\n"
     ]
    },
    {
     "name": "stderr",
     "output_type": "stream",
     "text": [
      "  % Total    % Received % Xferd  Average Speed   Time    Time     Time  Current\n",
      "                                 Dload  Upload   Total   Spent    Left  Speed\n",
      "100 37864  100 37864    0     0  13262      0  0:00:02  0:00:02 --:--:-- 13262\n"
     ]
    },
    {
     "name": "stdout",
     "output_type": "stream",
     "text": [
      "Downloading \u001b[32mftp://my.cmems-du.eu/Core/INSITU_NWS_TS_REP_OBSERVATIONS_013_043/history/etc/GL_PR_TE_9901004.nc\u001b[39m\n"
     ]
    },
    {
     "name": "stderr",
     "output_type": "stream",
     "text": [
      "  % Total    % Received % Xferd  Average Speed   Time    Time     Time  Current\n",
      "                                 Dload  Upload   Total   Spent    Left  Speed\n",
      "  0     0    0     0    0     0      0      0 --:--:--  0:00:01 --:--:--     0"
     ]
    },
    {
     "name": "stdout",
     "output_type": "stream",
     "text": [
      "Downloading \u001b[32mftp://my.cmems-du.eu/Core/INSITU_NWS_TS_REP_OBSERVATIONS_013_043/history/etc/GL_TS_DB_4701658.nc\u001b[39m\n"
     ]
    },
    {
     "name": "stderr",
     "output_type": "stream",
     "text": [
      "100 36572  100 36572    0     0  13624      0  0:00:02  0:00:02 --:--:-- 13625\n",
      "  % Total    % Received % Xferd  Average Speed   Time    Time     Time  Current\n",
      "                                 Dload  Upload   Total   Spent    Left  Speed\n",
      "100  199k  100  199k    0     0  86383      0  0:00:02  0:00:02 --:--:-- 86363\n"
     ]
    },
    {
     "name": "stdout",
     "output_type": "stream",
     "text": [
      "Downloading \u001b[32mftp://my.cmems-du.eu/Core/INSITU_NWS_TS_REP_OBSERVATIONS_013_043/history/etc/GL_TS_DB_4701659.nc\u001b[39m\n"
     ]
    },
    {
     "name": "stderr",
     "output_type": "stream",
     "text": [
      "  % Total    % Received % Xferd  Average Speed   Time    Time     Time  Current\n",
      "                                 Dload  Upload   Total   Spent    Left  Speed\n",
      "100  239k  100  239k    0     0  97535      0  0:00:02  0:00:02 --:--:-- 97551\n"
     ]
    },
    {
     "name": "stdout",
     "output_type": "stream",
     "text": [
      "Downloading \u001b[32mftp://my.cmems-du.eu/Core/INSITU_NWS_TS_REP_OBSERVATIONS_013_043/history/etc/GL_TS_DB_4701660.nc\u001b[39m\n"
     ]
    },
    {
     "name": "stderr",
     "output_type": "stream",
     "text": [
      "  % Total    % Received % Xferd  Average Speed   Time    Time     Time  Current\n",
      "                                 Dload  Upload   Total   Spent    Left  Speed\n",
      "100  278k  100  278k    0     0   107k      0  0:00:02  0:00:02 --:--:--  107k\n"
     ]
    },
    {
     "name": "stdout",
     "output_type": "stream",
     "text": [
      "Downloading \u001b[32mftp://my.cmems-du.eu/Core/INSITU_NWS_TS_REP_OBSERVATIONS_013_043/history/mooring/GL_TS_MO_6200058.nc\u001b[39m\n"
     ]
    },
    {
     "name": "stderr",
     "output_type": "stream",
     "text": [
      "  % Total    % Received % Xferd  Average Speed   Time    Time     Time  Current\n",
      "                                 Dload  Upload   Total   Spent    Left  Speed\n",
      " 97 11.5M   97 11.2M    0     0   325k      0  0:00:36  0:00:35  0:00:01  314k"
     ]
    },
    {
     "name": "stdout",
     "output_type": "stream",
     "text": [
      "Downloading \u001b[32mftp://my.cmems-du.eu/Core/INSITU_NWS_TS_REP_OBSERVATIONS_013_043/history/mooring/GL_TS_MO_6200310.nc\u001b[39m\n"
     ]
    },
    {
     "name": "stderr",
     "output_type": "stream",
     "text": [
      "100 11.5M  100 11.5M    0     0   330k      0  0:00:35  0:00:35 --:--:--  348k\n",
      "  % Total    % Received % Xferd  Average Speed   Time    Time     Time  Current\n",
      "                                 Dload  Upload   Total   Spent    Left  Speed\n",
      " 99 46.5M   99 46.5M    0     0   343k      0  0:02:18  0:02:18 --:--:--  420k 348k"
     ]
    },
    {
     "name": "stdout",
     "output_type": "stream",
     "text": [
      "Downloading \u001b[32mftp://my.cmems-du.eu/Core/INSITU_NWS_TS_REP_OBSERVATIONS_013_043/history/mooring/GL_TS_MO_62059.nc\u001b[39m\n"
     ]
    },
    {
     "name": "stderr",
     "output_type": "stream",
     "text": [
      "100 46.5M  100 46.5M    0     0   343k      0  0:02:18  0:02:18 --:--:--  348k\n",
      "  % Total    % Received % Xferd  Average Speed   Time    Time     Time  Current\n",
      "                                 Dload  Upload   Total   Spent    Left  Speed\n",
      "100 60.5M  100 60.5M    0     0   345k      0  0:02:59  0:02:59 --:--:--  354k0  0:03:11  0:00:24  0:02:47  348k1  348k0:32  292k348kk:08  341k\n"
     ]
    },
    {
     "name": "stdout",
     "output_type": "stream",
     "text": [
      "Downloading \u001b[32mftp://my.cmems-du.eu/Core/INSITU_NWS_TS_REP_OBSERVATIONS_013_043/history/mooring/GL_TS_MO_62069.nc\u001b[39m\n"
     ]
    },
    {
     "name": "stderr",
     "output_type": "stream",
     "text": [
      "  % Total    % Received % Xferd  Average Speed   Time    Time     Time  Current\n",
      "                                 Dload  Upload   Total   Spent    Left  Speed\n",
      "  1 54.5M    1  624k    0     0   154k      0  0:06:02  0:00:04  0:05:58  154k"
     ]
    }
   ],
   "source": [
    "lonr = [-Inf, Inf]\n",
    "latr = [-Inf, Inf]\n",
    "timerange = [DateTime(2018,1,1),DateTime(2018,1,10)]\n",
    "param = \"TEMP\"\n",
    "basedir = \"InSitu-Data\"\n",
    "files = CMEMS.download(lonr,latr,timerange,param,username,password,basedir; \n",
    "    indexURLs = [\"ftp://my.cmems-du.eu/Core/INSITU_NWS_TS_REP_OBSERVATIONS_013_043/index_history.txt\"])"
   ]
  },
  {
   "cell_type": "markdown",
   "metadata": {
    "slideshow": {
     "slide_type": "slide"
    }
   },
   "source": [
    "### Loading a single drifter file"
   ]
  },
  {
   "cell_type": "code",
   "execution_count": 18,
   "metadata": {
    "slideshow": {
     "slide_type": "-"
    }
   },
   "outputs": [
    {
     "name": "stdout",
     "output_type": "stream",
     "text": [
      "sum(sel) = 20647\n",
      "extrema(obstime[sel]) = (2016-03-08T20:00:00, 2018-12-31T23:00:00)\n"
     ]
    },
    {
     "data": {
      "text/plain": [
       "(2016-03-08T20:00:00, 2018-12-31T23:00:00)"
      ]
     },
     "execution_count": 18,
     "metadata": {},
     "output_type": "execute_result"
    }
   ],
   "source": [
    "\n",
    "fname = \"InSitu-Data/my.cmems-du.eu/Core/INSITU_NWS_TS_REP_OBSERVATIONS_013_043/history/drifter/GL_TS_DB_4700539.nc\"\n",
    "ds = Dataset(fname);\n",
    "lon = ds[\"LONGITUDE\"][:];\n",
    "lat = ds[\"LATITUDE\"][:];\n",
    "T = ds[\"TEMP\"][:];\n",
    "obstime = ds[\"TIME\"][:];\n",
    "close(ds)\n",
    "sel = .!ismissing.(T[1,:]);\n",
    "@show sum(sel)\n",
    "@show extrema(obstime[sel])"
   ]
  },
  {
   "cell_type": "markdown",
   "metadata": {
    "slideshow": {
     "slide_type": "slide"
    }
   },
   "source": [
    "### Plotting a drifter trajectory"
   ]
  },
  {
   "cell_type": "code",
   "execution_count": 19,
   "metadata": {
    "slideshow": {
     "slide_type": "-"
    }
   },
   "outputs": [
    {
     "data": {
      "image/png": "[encoded data removed]",
      "text/plain": [
       "Figure(PyObject <Figure size 640x480 with 2 Axes>)"
      ]
     },
     "metadata": {},
     "output_type": "display_data"
    }
   ],
   "source": [
    "using OceanPlot\n",
    "scatter(lon[sel],lat[sel],10,T[sel],cmap=\"jet\")\n",
    "colorbar(orientation = \"horizontal\")\n",
    "xlim(-70,0)\n",
    "OceanPlot.plotmap()\n",
    "gca().set_aspect(1/cos(pi*mean(ylim()) / 180))"
   ]
  }
 ],
 "metadata": {
  "@webio": {
   "lastCommId": null,
   "lastKernelId": null
  },
  "celltoolbar": "Slideshow",
  "kernelspec": {
   "display_name": "Julia 1.0.1",
   "language": "julia",
   "name": "julia-1.0"
  },
  "language_info": {
   "file_extension": ".jl",
   "mimetype": "application/julia",
   "name": "julia",
   "version": "1.0.1"
  }
 },
 "nbformat": 4,
 "nbformat_minor": 2
}
