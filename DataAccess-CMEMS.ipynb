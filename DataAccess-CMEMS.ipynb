{
 "cells": [
  {
   "cell_type": "markdown",
   "metadata": {},
   "source": [
    "# Import NetCDF files from CMEMS\n",
    "\n"
   ]
  },
  {
   "cell_type": "markdown",
   "metadata": {},
   "source": [
    "![step001.png](Fig-CMEMS/step001.png)\n"
   ]
  },
  {
   "cell_type": "markdown",
   "metadata": {},
   "source": [
    "\n",
    "The following command download CMEMS data using the motu-client. The CMEMS portal give a script like the following matching you search criteria:\n",
    "\n",
    "```bash\n",
    "python -m  motu-client --user \"abarth\" --pwd  \"your*password\" --motu http://nrt.cmems-du.eu/motu-web/Motu \\\n",
    "  --service-id MEDSEA_ANALYSIS_FORECAST_PHY_006_013-TDS --product-id sv04-med-ingv-tem-an-fc-d \\\n",
    "  --longitude-min -17.29166603088379 --longitude-max 36.29166793823242 \\\n",
    "  --latitude-min 30.1875 --latitude-max 45.97916793823242 \\\n",
    "  --date-min \"2019-04-24 00:00:00\" --date-max \"2019-04-24 00:00:00\" \\\n",
    "  --depth-min 1.0181 --depth-max 104.94500000000001 \\\n",
    "  --variable thetao --out-dir /tmp --out-name OUTPUT_FILENAME.nc\n",
    "```\n"
   ]
  },
  {
   "cell_type": "markdown",
   "metadata": {},
   "source": [
    "Import the necessary modules for linear algebra (the transpose operator), plotting via matplotlib and reading NetCDF Files \n"
   ]
  },
  {
   "cell_type": "markdown",
   "metadata": {},
   "source": [
    "\n"
   ]
  },
  {
   "cell_type": "code",
   "execution_count": 2,
   "metadata": {},
   "outputs": [
    {
     "name": "stderr",
     "output_type": "stream",
     "text": [
      "┌ Info: Recompiling stale cache file /home/abarth/.julia/compiled/v1.0/NCDatasets/lxvtD.ji for NCDatasets [85f8d34a-cbdd-5861-8df4-14fed0d494ab]\n",
      "└ @ Base loading.jl:1190\n"
     ]
    }
   ],
   "source": [
    "using LinearAlgebra\n",
    "using PyCall\n",
    "using PyCall: PyObject\n",
    "using PyPlot\n",
    "using NCDatasets"
   ]
  },
  {
   "cell_type": "markdown",
   "metadata": {},
   "source": [
    "Some helper functions to make plotting data with missing values easier"
   ]
  },
  {
   "cell_type": "code",
   "execution_count": 3,
   "metadata": {},
   "outputs": [
    {
     "data": {
      "text/plain": [
       "PyObject"
      ]
     },
     "execution_count": 3,
     "metadata": {},
     "output_type": "execute_result"
    }
   ],
   "source": [
    "function PyObject(a::Array{Union{T,Missing},N}) where {T,N}\n",
    "  numpy_ma = pyimport(\"numpy\").ma\n",
    "  pycall(numpy_ma.array, Any, coalesce.(a,zero(T)), mask=ismissing.(a))\n",
    "end\n",
    "\n",
    "PyObject(a::Adjoint{Array}) = PyObject(copy(a))"
   ]
  },
  {
   "cell_type": "markdown",
   "metadata": {},
   "source": [
    "Name of the downloaded NetCDF file"
   ]
  },
  {
   "cell_type": "code",
   "execution_count": 4,
   "metadata": {},
   "outputs": [
    {
     "data": {
      "text/plain": [
       "\"Data/sv04-med-ingv-tem-an-fc-d_1555334258448.nc\""
      ]
     },
     "execution_count": 4,
     "metadata": {},
     "output_type": "execute_result"
    }
   ],
   "source": [
    "filename = \"Data/sv04-med-ingv-tem-an-fc-d_1555334258448.nc\""
   ]
  },
  {
   "cell_type": "markdown",
   "metadata": {},
   "source": [
    "List the metadata of the NetCDF file"
   ]
  },
  {
   "cell_type": "code",
   "execution_count": 5,
   "metadata": {},
   "outputs": [
    {
     "ename": "NCDatasets.NetCDFError",
     "evalue": "NCDatasets.NetCDFError(2, \"Opening path Data/sv04-med-ingv-tem-an-fc-d_1555334258448.nc: Datei oder Verzeichnis nicht gefunden\")",
     "output_type": "error",
     "traceback": [
      "NCDatasets.NetCDFError(2, \"Opening path Data/sv04-med-ingv-tem-an-fc-d_1555334258448.nc: Datei oder Verzeichnis nicht gefunden\")",
      "",
      "Stacktrace:",
      " [1] nc_open(::String, ::UInt16) at /home/abarth/.julia/dev/NCDatasets/src/netcdf_c.jl:275",
      " [2] #Dataset#19(::Symbol, ::Array{Any,1}, ::Type, ::String, ::String) at /home/abarth/.julia/dev/NCDatasets/src/NCDatasets.jl:484",
      " [3] Type at /home/abarth/.julia/dev/NCDatasets/src/NCDatasets.jl:480 [inlined] (repeats 2 times)",
      " [4] top-level scope at In[5]:1"
     ]
    }
   ],
   "source": [
    "ds = Dataset(filename)"
   ]
  },
  {
   "cell_type": "markdown",
   "metadata": {},
   "source": [
    "The time instance in the NetCDF file"
   ]
  },
  {
   "cell_type": "code",
   "execution_count": 6,
   "metadata": {},
   "outputs": [
    {
     "ename": "UndefVarError",
     "evalue": "UndefVarError: ds not defined",
     "output_type": "error",
     "traceback": [
      "UndefVarError: ds not defined",
      "",
      "Stacktrace:",
      " [1] top-level scope at In[6]:1"
     ]
    }
   ],
   "source": [
    "ds[\"time\"][:]"
   ]
  },
  {
   "cell_type": "markdown",
   "metadata": {},
   "source": [
    "The depth (in m) for the first level:"
   ]
  },
  {
   "cell_type": "code",
   "execution_count": 7,
   "metadata": {},
   "outputs": [
    {
     "ename": "UndefVarError",
     "evalue": "UndefVarError: ds not defined",
     "output_type": "error",
     "traceback": [
      "UndefVarError: ds not defined",
      "",
      "Stacktrace:",
      " [1] top-level scope at In[7]:1"
     ]
    }
   ],
   "source": [
    "ds[\"depth\"][1]"
   ]
  },
  {
   "cell_type": "markdown",
   "metadata": {},
   "source": [
    "Load the first layer and the first time instance:"
   ]
  },
  {
   "cell_type": "code",
   "execution_count": 8,
   "metadata": {},
   "outputs": [
    {
     "ename": "UndefVarError",
     "evalue": "UndefVarError: ds not defined",
     "output_type": "error",
     "traceback": [
      "UndefVarError: ds not defined",
      "",
      "Stacktrace:",
      " [1] top-level scope at In[8]:1"
     ]
    }
   ],
   "source": [
    "SST = ds[\"thetao\"][:,:,1,1];"
   ]
  },
  {
   "cell_type": "code",
   "execution_count": 9,
   "metadata": {},
   "outputs": [
    {
     "ename": "UndefVarError",
     "evalue": "UndefVarError: SST not defined",
     "output_type": "error",
     "traceback": [
      "UndefVarError: SST not defined",
      "",
      "Stacktrace:",
      " [1] top-level scope at In[9]:1"
     ]
    }
   ],
   "source": [
    "pcolor(SST', cmap=\"jet\"); colorbar(orientation=\"horizontal\");"
   ]
  },
  {
   "cell_type": "markdown",
   "metadata": {},
   "source": [
    "A nicer plot with longitude and latitude as axes and the correct aspect ratio:"
   ]
  },
  {
   "cell_type": "code",
   "execution_count": 10,
   "metadata": {},
   "outputs": [
    {
     "ename": "UndefVarError",
     "evalue": "UndefVarError: ds not defined",
     "output_type": "error",
     "traceback": [
      "UndefVarError: ds not defined",
      "",
      "Stacktrace:",
      " [1] top-level scope at In[10]:1"
     ]
    }
   ],
   "source": [
    "lon = ds[\"lon\"][:];\n",
    "lat = ds[\"lat\"][:];\n",
    "pcolor(lon,lat,SST', cmap=\"jet\"); colorbar(orientation=\"horizontal\");\n",
    "gca().set_aspect(1/cos(pi*mean(lat) / 180))"
   ]
  },
  {
   "cell_type": "markdown",
   "metadata": {},
   "source": [
    "List a depth levels in the NetCDF file"
   ]
  },
  {
   "cell_type": "code",
   "execution_count": 11,
   "metadata": {},
   "outputs": [
    {
     "ename": "UndefVarError",
     "evalue": "UndefVarError: ds not defined",
     "output_type": "error",
     "traceback": [
      "UndefVarError: ds not defined",
      "",
      "Stacktrace:",
      " [1] top-level scope at In[11]:1"
     ]
    }
   ],
   "source": [
    "depth = ds[\"depth\"][:]"
   ]
  },
  {
   "cell_type": "markdown",
   "metadata": {},
   "source": [
    "Plot a vertical section at a constant latitude:"
   ]
  },
  {
   "cell_type": "code",
   "execution_count": 12,
   "metadata": {},
   "outputs": [
    {
     "ename": "UndefVarError",
     "evalue": "UndefVarError: ds not defined",
     "output_type": "error",
     "traceback": [
      "UndefVarError: ds not defined",
      "",
      "Stacktrace:",
      " [1] top-level scope at In[12]:2"
     ]
    }
   ],
   "source": [
    "j = 200;\n",
    "T = ds[\"thetao\"][:,j,:,1];\n",
    "lat[j]"
   ]
  },
  {
   "cell_type": "code",
   "execution_count": 13,
   "metadata": {},
   "outputs": [
    {
     "ename": "UndefVarError",
     "evalue": "UndefVarError: depth not defined",
     "output_type": "error",
     "traceback": [
      "UndefVarError: depth not defined",
      "",
      "Stacktrace:",
      " [1] top-level scope at In[13]:1"
     ]
    }
   ],
   "source": [
    "pcolor(lon,-depth,T'); colorbar(orientation=\"horizontal\");"
   ]
  },
  {
   "cell_type": "markdown",
   "metadata": {},
   "source": [
    "# In situ observations"
   ]
  },
  {
   "cell_type": "code",
   "execution_count": 14,
   "metadata": {},
   "outputs": [
    {
     "name": "stderr",
     "output_type": "stream",
     "text": [
      "┌ Info: Recompiling stale cache file /home/abarth/.julia/compiled/v1.0/PhysOcean/9Hv8Y.ji for PhysOcean [3725be50-bbbd-5592-92c3-2f0e82159c3e]\n",
      "└ @ Base loading.jl:1190\n"
     ]
    }
   ],
   "source": [
    "using PhysOcean"
   ]
  },
  {
   "cell_type": "code",
   "execution_count": 15,
   "metadata": {},
   "outputs": [],
   "source": [
    "# username = \"Joe\"\n",
    "# password = \"p*ssw0rd\"\n",
    "\n",
    "username, password = split(read(expanduser(\"~/.cmems-credentials\"),String),\":\", limit = 2);"
   ]
  },
  {
   "cell_type": "code",
   "execution_count": 16,
   "metadata": {},
   "outputs": [
    {
     "data": {
      "text/latex": [
       "\\begin{verbatim}\n",
       "CMEMS.download(lonr,latr,timerange,param,username,password,basedir[; indexURLs = ...])\n",
       "\\end{verbatim}\n",
       "Download in situ data within the longitude range \\texttt{lonr} (an array or tuple with two elements: the minimum longitude and the maximum longitude), the latitude range \\texttt{latr} (likewise), time range \\texttt{timerange} (an array or tuple with two \\texttt{DateTime} structures: the starting date and the end date) from the CMEMS (Copernicus Marine environment monitoring service) in situ service \\footnotemark[1]. \\texttt{param} is one of the parameter codes as defined in \\footnotemark[2] or \\footnotemark[3]. \\texttt{username} and \\texttt{password} are the credentials to access data \\footnotemark[1] and \\texttt{basedir} is the directory under which the data is saved. \\texttt{indexURLs} is a list of the URL to the \\texttt{index\\_history.txt} file. Per default, it includes the URLs of the Baltic, Arctic, North West Shelf, Iberian, Mediteranean and Black Sea Thematic Assembly Center.\n",
       "\n",
       "As these URLs might change, the latest version of the URLs to the indexes can be obtained at \\footnotemark[1].\n",
       "\n",
       "\\section{Example}\n",
       "\\begin{verbatim}\n",
       "julia> username = \"...\"\n",
       "julia> password = \"...\"\n",
       "julia> lonr = [7.6, 12.2]\n",
       "julia> latr = [42, 44.5]\n",
       "julia> timerange = [DateTime(2016,5,1),DateTime(2016,8,1)]\n",
       "julia> param = \"TEMP\"\n",
       "julia> basedir = \"/tmp\"\n",
       "julia> files = CMEMS.download(lonr,latr,timerange,param,username,password,basedir)\n",
       "\\end{verbatim}\n",
       "\\footnotetext[1]{http://marine.copernicus.eu/\n",
       "\n",
       "}\n",
       "\\footnotetext[2]{http://www.coriolis.eu.org/Documentation/General-Informations-on-Data/Codes-Tables\n",
       "\n",
       "}\n",
       "\\footnotetext[3]{http://doi.org/10.13155/40846\n",
       "\n",
       "}\n"
      ],
      "text/markdown": [
       "```\n",
       "CMEMS.download(lonr,latr,timerange,param,username,password,basedir[; indexURLs = ...])\n",
       "```\n",
       "\n",
       "Download in situ data within the longitude range `lonr` (an array or tuple with two elements: the minimum longitude and the maximum longitude), the latitude range `latr` (likewise), time range `timerange` (an array or tuple with two `DateTime` structures: the starting date and the end date) from the CMEMS (Copernicus Marine environment monitoring service) in situ service [^1]. `param` is one of the parameter codes as defined in [^2] or [^3]. `username` and `password` are the credentials to access data [^1] and `basedir` is the directory under which the data is saved. `indexURLs` is a list of the URL to the `index_history.txt` file. Per default, it includes the URLs of the Baltic, Arctic, North West Shelf, Iberian, Mediteranean and Black Sea Thematic Assembly Center.\n",
       "\n",
       "As these URLs might change, the latest version of the URLs to the indexes can be obtained at [^1].\n",
       "\n",
       "# Example\n",
       "\n",
       "```julia-repl\n",
       "julia> username = \"...\"\n",
       "julia> password = \"...\"\n",
       "julia> lonr = [7.6, 12.2]\n",
       "julia> latr = [42, 44.5]\n",
       "julia> timerange = [DateTime(2016,5,1),DateTime(2016,8,1)]\n",
       "julia> param = \"TEMP\"\n",
       "julia> basedir = \"/tmp\"\n",
       "julia> files = CMEMS.download(lonr,latr,timerange,param,username,password,basedir)\n",
       "```\n",
       "\n",
       "[^1]: http://marine.copernicus.eu/\n",
       "\n",
       "[^2]: http://www.coriolis.eu.org/Documentation/General-Informations-on-Data/Codes-Tables\n",
       "\n",
       "[^3]: http://doi.org/10.13155/40846\n"
      ],
      "text/plain": [
       "\u001b[36m  CMEMS.download(lonr,latr,timerange,param,username,password,basedir[; indexURLs = ...])\u001b[39m\n",
       "\n",
       "  Download in situ data within the longitude range \u001b[36mlonr\u001b[39m (an array or tuple\n",
       "  with two elements: the minimum longitude and the maximum longitude), the\n",
       "  latitude range \u001b[36mlatr\u001b[39m (likewise), time range \u001b[36mtimerange\u001b[39m (an array or tuple with\n",
       "  two \u001b[36mDateTime\u001b[39m structures: the starting date and the end date) from the CMEMS\n",
       "  (Copernicus Marine environment monitoring service) in situ service \u001b[1m[^1]\u001b[22m.\n",
       "  \u001b[36mparam\u001b[39m is one of the parameter codes as defined in \u001b[1m[^2]\u001b[22m or \u001b[1m[^3]\u001b[22m. \u001b[36musername\u001b[39m and\n",
       "  \u001b[36mpassword\u001b[39m are the credentials to access data \u001b[1m[^1]\u001b[22m and \u001b[36mbasedir\u001b[39m is the\n",
       "  directory under which the data is saved. \u001b[36mindexURLs\u001b[39m is a list of the URL to\n",
       "  the \u001b[36mindex_history.txt\u001b[39m file. Per default, it includes the URLs of the Baltic,\n",
       "  Arctic, North West Shelf, Iberian, Mediteranean and Black Sea Thematic\n",
       "  Assembly Center.\n",
       "\n",
       "  As these URLs might change, the latest version of the URLs to the indexes\n",
       "  can be obtained at \u001b[1m[^1]\u001b[22m.\n",
       "\n",
       "\u001b[1m  Example\u001b[22m\n",
       "\u001b[1m  ≡≡≡≡≡≡≡≡≡\u001b[22m\n",
       "\n",
       "\u001b[36m  julia> username = \"...\"\u001b[39m\n",
       "\u001b[36m  julia> password = \"...\"\u001b[39m\n",
       "\u001b[36m  julia> lonr = [7.6, 12.2]\u001b[39m\n",
       "\u001b[36m  julia> latr = [42, 44.5]\u001b[39m\n",
       "\u001b[36m  julia> timerange = [DateTime(2016,5,1),DateTime(2016,8,1)]\u001b[39m\n",
       "\u001b[36m  julia> param = \"TEMP\"\u001b[39m\n",
       "\u001b[36m  julia> basedir = \"/tmp\"\u001b[39m\n",
       "\u001b[36m  julia> files = CMEMS.download(lonr,latr,timerange,param,username,password,basedir)\u001b[39m\n",
       "\n",
       "  │ \u001b[0m\u001b[1m[^1]\u001b[22m\n",
       "  │\n",
       "  │  http://marine.copernicus.eu/\n",
       "\n",
       "  │ \u001b[0m\u001b[1m[^2]\u001b[22m\n",
       "  │\n",
       "  │  http://www.coriolis.eu.org/Documentation/General-Informations-on-Data/Codes-Tables\n",
       "\n",
       "  │ \u001b[0m\u001b[1m[^3]\u001b[22m\n",
       "  │\n",
       "  │  http://doi.org/10.13155/40846"
      ]
     },
     "execution_count": 16,
     "metadata": {},
     "output_type": "execute_result"
    }
   ],
   "source": [
    "?CMEMS.download"
   ]
  },
  {
   "cell_type": "code",
   "execution_count": 17,
   "metadata": {},
   "outputs": [
    {
     "name": "stdout",
     "output_type": "stream",
     "text": [
      "Downloading \u001b[32mftp://my.cmems-du.eu/Core/INSITU_NWS_TS_REP_OBSERVATIONS_013_043/index_history.txt\u001b[39m\n"
     ]
    },
    {
     "name": "stderr",
     "output_type": "stream",
     "text": [
      "  % Total    % Received % Xferd  Average Speed   Time    Time     Time  Current\n",
      "                                 Dload  Upload   Total   Spent    Left  Speed\n",
      "100 1926k  100 1926k    0     0  1285k      0  0:00:01  0:00:01 --:--:-- 1284k\n"
     ]
    },
    {
     "data": {
      "text/plain": [
       "362-element Array{String,1}:\n",
       " \"my.cmems-du.eu/Core/INSITU_NWS_TS_REP_OBSERVATIONS_013_043/history/drifter/GL_TS_DB_1300529.nc\"        \n",
       " \"my.cmems-du.eu/Core/INSITU_NWS_TS_REP_OBSERVATIONS_013_043/history/drifter/GL_TS_DB_2500622.nc\"        \n",
       " \"my.cmems-du.eu/Core/INSITU_NWS_TS_REP_OBSERVATIONS_013_043/history/drifter/GL_TS_DB_2601561.nc\"        \n",
       " \"my.cmems-du.eu/Core/INSITU_NWS_TS_REP_OBSERVATIONS_013_043/history/drifter/GL_TS_DB_4100668.nc\"        \n",
       " \"my.cmems-du.eu/Core/INSITU_NWS_TS_REP_OBSERVATIONS_013_043/history/drifter/GL_TS_DB_4400510.nc\"        \n",
       " \"my.cmems-du.eu/Core/INSITU_NWS_TS_REP_OBSERVATIONS_013_043/history/drifter/GL_TS_DB_4400513.nc\"        \n",
       " \"my.cmems-du.eu/Core/INSITU_NWS_TS_REP_OBSERVATIONS_013_043/history/drifter/GL_TS_DB_4400765.nc\"        \n",
       " \"my.cmems-du.eu/Core/INSITU_NWS_TS_REP_OBSERVATIONS_013_043/history/drifter/GL_TS_DB_4400886.nc\"        \n",
       " \"my.cmems-du.eu/Core/INSITU_NWS_TS_REP_OBSERVATIONS_013_043/history/drifter/GL_TS_DB_4400899.nc\"        \n",
       " \"my.cmems-du.eu/Core/INSITU_NWS_TS_REP_OBSERVATIONS_013_043/history/drifter/GL_TS_DB_4401501.nc\"        \n",
       " \"my.cmems-du.eu/Core/INSITU_NWS_TS_REP_OBSERVATIONS_013_043/history/drifter/GL_TS_DB_4401536.nc\"        \n",
       " \"my.cmems-du.eu/Core/INSITU_NWS_TS_REP_OBSERVATIONS_013_043/history/drifter/GL_TS_DB_4401548.nc\"        \n",
       " \"my.cmems-du.eu/Core/INSITU_NWS_TS_REP_OBSERVATIONS_013_043/history/drifter/GL_TS_DB_4401550.nc\"        \n",
       " ⋮                                                                                                       \n",
       " \"my.cmems-du.eu/Core/INSITU_NWS_TS_REP_OBSERVATIONS_013_043/history/profiler-glider/GL_PR_PF_6902805.nc\"\n",
       " \"my.cmems-du.eu/Core/INSITU_NWS_TS_REP_OBSERVATIONS_013_043/history/profiler-glider/GL_PR_PF_6902807.nc\"\n",
       " \"my.cmems-du.eu/Core/INSITU_NWS_TS_REP_OBSERVATIONS_013_043/history/profiler-glider/GL_PR_PF_6902808.nc\"\n",
       " \"my.cmems-du.eu/Core/INSITU_NWS_TS_REP_OBSERVATIONS_013_043/history/profiler-glider/GL_PR_PF_6902811.nc\"\n",
       " \"my.cmems-du.eu/Core/INSITU_NWS_TS_REP_OBSERVATIONS_013_043/history/profiler-glider/GL_PR_PF_6902819.nc\"\n",
       " \"my.cmems-du.eu/Core/INSITU_NWS_TS_REP_OBSERVATIONS_013_043/history/profiler-glider/GL_PR_PF_6903272.nc\"\n",
       " \"my.cmems-du.eu/Core/INSITU_NWS_TS_REP_OBSERVATIONS_013_043/history/profiler-glider/GL_PR_PF_6903273.nc\"\n",
       " \"my.cmems-du.eu/Core/INSITU_NWS_TS_REP_OBSERVATIONS_013_043/history/profiler-glider/GL_PR_TE_68986.nc\"  \n",
       " \"my.cmems-du.eu/Core/INSITU_NWS_TS_REP_OBSERVATIONS_013_043/history/vessel/GL_PR_TE_MLRM6_2018.nc\"      \n",
       " \"my.cmems-du.eu/Core/INSITU_NWS_TS_REP_OBSERVATIONS_013_043/history/vessel/GL_PR_TE_ZDLP_2018.nc\"       \n",
       " \"my.cmems-du.eu/Core/INSITU_NWS_TS_REP_OBSERVATIONS_013_043/history/vessel/GL_TS_TS_FGG2872_2018.nc\"    \n",
       " \"my.cmems-du.eu/Core/INSITU_NWS_TS_REP_OBSERVATIONS_013_043/history/vessel/GL_TS_TS_FVNM_2018.nc\"       "
      ]
     },
     "execution_count": 17,
     "metadata": {},
     "output_type": "execute_result"
    }
   ],
   "source": [
    "lonr = [-Inf, Inf]\n",
    "latr = [-Inf, Inf]\n",
    "timerange = [DateTime(2018,1,1),DateTime(2018,1,10)]\n",
    "param = \"TEMP\"\n",
    "basedir = \"/tmp\"\n",
    "files = CMEMS.download(lonr,latr,timerange,param,username,password,basedir; \n",
    "    indexURLs = [\"ftp://my.cmems-du.eu/Core/INSITU_NWS_TS_REP_OBSERVATIONS_013_043/index_history.txt\"])"
   ]
  },
  {
   "cell_type": "code",
   "execution_count": 18,
   "metadata": {},
   "outputs": [],
   "source": [
    "cd(basedir)"
   ]
  },
  {
   "cell_type": "code",
   "execution_count": 19,
   "metadata": {},
   "outputs": [
    {
     "ename": "ErrorException",
     "evalue": "unexpected size in my.cmems-du.eu/Core/INSITU_NWS_TS_REP_OBSERVATIONS_013_043/history/mooring/NO_TS_MO_62029.nc, size(data) = (2, 201920), size(lon) = (1,)",
     "output_type": "error",
     "traceback": [
      "unexpected size in my.cmems-du.eu/Core/INSITU_NWS_TS_REP_OBSERVATIONS_013_043/history/mooring/NO_TS_MO_62029.nc, size(data) = (2, 201920), size(lon) = (1,)",
      "",
      "Stacktrace:",
      " [1] error(::String) at ./error.jl:33",
      " [2] #load#7(::Array{Int64,1}, ::Function, ::Type, ::String, ::String) at /home/abarth/projects/Julia/PhysOcean.jl/src/CMEMS.jl:314",
      " [3] (::getfield(PhysOcean.CMEMS, Symbol(\"#kw##load\")))(::NamedTuple{(:qualityflags,),Tuple{Array{Int64,1}}}, ::typeof(PhysOcean.CMEMS.load), ::Type, ::String, ::String) at ./none:0",
      " [4] #load#8(::Array{Int64,1}, ::Function, ::Type, ::Array{String,1}, ::String) at /home/abarth/projects/Julia/PhysOcean.jl/src/CMEMS.jl:378",
      " [5] load(::Type, ::Array{String,1}, ::String) at /home/abarth/projects/Julia/PhysOcean.jl/src/CMEMS.jl:370",
      " [6] top-level scope at In[19]:1"
     ]
    }
   ],
   "source": [
    "obsdata,obslon,obslat,obsz,obstime,obsids = CMEMS.load(Float64,files,\"TEMP\");"
   ]
  }
 ],
 "metadata": {
  "@webio": {
   "lastCommId": "33a2a3007db94627b0964e1433296cdb",
   "lastKernelId": "f39340a8-a0af-4922-be3a-2d306ddea13b"
  },
  "kernelspec": {
   "display_name": "Julia 1.0.3",
   "language": "julia",
   "name": "julia-1.0"
  },
  "language_info": {
   "file_extension": ".jl",
   "mimetype": "application/julia",
   "name": "julia",
   "version": "1.0.3"
  }
 },
 "nbformat": 4,
 "nbformat_minor": 2
}
